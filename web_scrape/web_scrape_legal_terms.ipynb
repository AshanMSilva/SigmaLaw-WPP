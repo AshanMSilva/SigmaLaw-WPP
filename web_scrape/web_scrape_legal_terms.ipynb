{
  "nbformat": 4,
  "nbformat_minor": 0,
  "metadata": {
    "colab": {
      "name": "web_scrape_legal_terms.ipynb",
      "provenance": [],
      "collapsed_sections": [],
      "mount_file_id": "1qMw2ChremiwBuUjG-E5EPVPczsZdpY7b",
      "authorship_tag": "ABX9TyMCOpO/DpRRLGe7HDfMvSbt",
      "include_colab_link": true
    },
    "kernelspec": {
      "name": "python3",
      "display_name": "Python 3"
    },
    "language_info": {
      "name": "python"
    }
  },
  "cells": [
    {
      "cell_type": "markdown",
      "metadata": {
        "id": "view-in-github",
        "colab_type": "text"
      },
      "source": [
        "<a href=\"https://colab.research.google.com/github/Lakith-Rambukkanage/SigmaLaw-WPP/blob/main/web_scrape/web_scrape_legal_terms.ipynb\" target=\"_parent\"><img src=\"https://colab.research.google.com/assets/colab-badge.svg\" alt=\"Open In Colab\"/></a>"
      ]
    },
    {
      "cell_type": "markdown",
      "source": [
        "Imports"
      ],
      "metadata": {
        "id": "mSxzsulsSgDV"
      }
    },
    {
      "cell_type": "code",
      "execution_count": null,
      "metadata": {
        "colab": {
          "base_uri": "https://localhost:8080/"
        },
        "id": "3X_Bo58bRFzY",
        "outputId": "e7fcb481-8502-45c5-8261-76148f2fbd74"
      },
      "outputs": [
        {
          "output_type": "stream",
          "name": "stdout",
          "text": [
            "Requirement already satisfied: bs4 in /usr/local/lib/python3.7/dist-packages (0.0.1)\n",
            "Requirement already satisfied: beautifulsoup4 in /usr/local/lib/python3.7/dist-packages (from bs4) (4.6.3)\n",
            "Requirement already satisfied: requests in /usr/local/lib/python3.7/dist-packages (2.23.0)\n",
            "Requirement already satisfied: chardet<4,>=3.0.2 in /usr/local/lib/python3.7/dist-packages (from requests) (3.0.4)\n",
            "Requirement already satisfied: urllib3!=1.25.0,!=1.25.1,<1.26,>=1.21.1 in /usr/local/lib/python3.7/dist-packages (from requests) (1.24.3)\n",
            "Requirement already satisfied: certifi>=2017.4.17 in /usr/local/lib/python3.7/dist-packages (from requests) (2021.10.8)\n",
            "Requirement already satisfied: idna<3,>=2.5 in /usr/local/lib/python3.7/dist-packages (from requests) (2.10)\n"
          ]
        }
      ],
      "source": [
        "!pip install bs4\n",
        "!pip install requests"
      ]
    },
    {
      "cell_type": "code",
      "source": [
        "#import\n",
        "from bs4 import BeautifulSoup\n",
        "import requests\n",
        "import pandas as pd"
      ],
      "metadata": {
        "id": "S70QGZ8HSjkH"
      },
      "execution_count": null,
      "outputs": []
    },
    {
      "cell_type": "markdown",
      "source": [
        "# Web scrape"
      ],
      "metadata": {
        "id": "11RnEkveD5Md"
      }
    },
    {
      "cell_type": "markdown",
      "source": [
        "State of connecticut"
      ],
      "metadata": {
        "id": "rhx1TMoCh-PO"
      }
    },
    {
      "cell_type": "code",
      "source": [
        "url_1 = \"https://www.jud.ct.gov/legalterms.htm\""
      ],
      "metadata": {
        "id": "6tEsUCnYTlWU"
      },
      "execution_count": null,
      "outputs": []
    },
    {
      "cell_type": "code",
      "source": [
        "page = requests.get(url).text\n",
        "soup = BeautifulSoup(page, 'html.parser')\n",
        "wordsList = [\"\" if p.strong ==None else p.strong.contents[0]  for p in soup.find_all('p')]"
      ],
      "metadata": {
        "id": "DkNDVPtwSm18"
      },
      "execution_count": null,
      "outputs": []
    },
    {
      "cell_type": "code",
      "source": [
        "print(wordsList)"
      ],
      "metadata": {
        "colab": {
          "base_uri": "https://localhost:8080/"
        },
        "id": "fy0RG0SsTuUN",
        "outputId": "07ee21b2-7993-4d16-dc21-e218ea0449e6"
      },
      "execution_count": null,
      "outputs": [
        {
          "output_type": "stream",
          "name": "stdout",
          "text": [
            "['', 'AKA:', 'Accelerated Rehabilitation:', 'Acknowledgment:', 'Action: ', 'Adjournment: ', 'Adjudicatory Hearing: ', 'Adult Court Transfer: ', 'Adult Probation:', 'Affirmation: ', 'Affidavit: ', 'Alcohol \\r\\n\\tEducation Program', 'Alford Doctrine:', 'Alimony', 'Allegation:', 'Alternate Juror: ', 'Alternative Detention Program: ', '\\r\\n\\tAlternative Dispute Resolution', 'Alternative Incarceration Center: ', 'Alternative Sanctions', 'Amicus Curiae brief:', 'Annulment', 'Answer', 'Appeal', 'Appeal Bond: ', 'Appearance', 'Appellant:', 'Appellee: ', 'Arbitration', 'Arraignment', 'Arrest: ', 'Arrearages', 'Assignment List', 'Assistant Attorney General:', 'Attachment:', 'Attorney of Record: \\r\\n\\t', 'Automatic Orders', '', 'A', '', 'Bail', 'Bail Bondsperson:', 'Bail Commissioner', 'Bar: ', 'Best Interest of the Child', 'Bench Warrant: ', 'Bond', 'Bond \\r\\n\\tForfeiture (calling the Bond)', 'Bond Review:', 'Bondsman: ', 'Brief:', 'Broken Down Irretrievably: ', '', 'A', '', 'Calendar:', 'Calendar Call:', 'Capias Mittimus: ', 'Capital Felony:', 'Case:', 'Case Conference: ', 'Case File: ', 'Case Flow Coordinator: ', 'Central Transportation Unit: ', 'Certify: ', 'CGS: ', 'Challenge: ', 'Charge: ', 'Charge to Jury:', 'Chattels: ', 'Child: ', '\\r\\n\\tChild Support', '\"', 'CIP:', 'Civil Action:', 'Claim: ', 'Classification and Program Officer: ', 'Common Law: ', 'Community Service:', 'Community Services Coordinator: ', 'Community \\r\\n\\tService Labor Program', '\\r\\n\\tComplaint', 'Complex Litigation:', 'Conditional Discharge: ', 'Contempt \\r\\n\\tof Court', 'Continuance:', 'Continuance Date: ', 'Contract: ', 'Conviction:', 'Costs: ', 'Count: ', 'Counter \\r\\n\\tClaim', 'Court-Appointed Attorney: ', 'Court Clerk: ', 'Court Interpreter', 'Court Monitor:', 'Court Reporter:', 'Court Services Officer: ', 'Court Trial: ', 'Crime \\r\\n\\tVictim Compensation Program', 'Cross-Examination:', 'Custody', 'Custody Affidavit', '', 'A', '', 'Damages:', 'Day Incarceration Center: ', 'Declaration:', '\\r\\n\\tDefault', 'Defendant: ', 'Delinquent: ', 'Deposition: ', 'Detention Hearing or Detention Release \\r\\n\\tHearing: ', 'Discovery: ', 'Dismissal: ', 'Dismissal Without Prejudice: ', 'Dispose: ', 'Disposition: ', 'Dissolution', 'Diversionary \\r\\n\\tPrograms', 'Docket:', 'Docket Number:', 'Domicile: ', 'Drug Court:', '', 'A', '', 'Education \\r\\n\\tProgram', 'Ejectment: ', 'Electronic Monitoring:', 'Emancipated Minor:', 'Emancipation: ', 'Eminent Domain: ', 'Eviction:', 'Evidence', 'Ex \\r\\n\\tParte:', 'Execution Suspended: ', '', 'A', '', 'Failure to Appear: ', 'Family Relations Counselor:', 'Family Support \\r\\n\\tMagistrate', 'Family Violence Education Program', 'Family Violence Victim Advocate: ', 'Family With Service Needs:', 'Felony: ', 'Felony Murder:', 'Financial Affidavit: \\r\\n\\t', 'Finding: ', 'Foreclosure: ', 'Foreman', '', 'A', '', 'Garnishment:', 'GA - Geographical \\r\\n\\tArea', 'Grievance:', 'Guardian', 'Guardian Ad Litem', '', 'A', '', 'Habeas Corpus: ', 'Hearsay:', 'Honor Court:', 'Housing \\r\\n\\tSpecialist', 'Hung Jury: ', '', 'A', '', 'Incarceration:', 'Income Withholding Order: ', 'Indigent: ', 'Information (the)', 'Infraction: ', 'Injunction:', 'Interpreter', 'Interrogatory', 'Investigatory Grand Jury:', '', 'A', '', 'Judge: ', 'Judgment:', 'Judgment File:', 'Juris Number', 'Jurisdiction:', 'Juror', 'Jury Charge:', 'Jury Instructions:', 'Juvenile \\r\\n\\tCourt: ', 'Juvenile Delinquent: ', 'Juvenile \\r\\n\\tDetention', 'Juvenile Detention Center:', 'Juvenile \\r\\n\\tDetention Officer: ', 'Juvenile Matters', 'Juvenile \\r\\n\\tProbation', 'Juvenile Transportation Officer: ', '', 'A', '', 'Law Librarian', 'Legal Aid or Legal \\r\\n\\tServices', 'Legal Custody:', 'Legal Separation', 'Lien:', 'Lis Pendens:', 'Litigant:', 'Lockout:', '', 'A', '', 'Magistrate:', 'Mandamus', 'Marshal: ', 'Mediation:', 'Minor:', 'Misdemeanor', 'Mitigating Circumstances: ', 'Mittimus \\r\\n\\tJudgment: ', 'Modification: ', 'Motion: ', 'Movant:', 'Moving Party:', 'Murder with Special Circumstances:', '', 'A', '', 'Ne Exeat: ', 'Neglected Minor: ', 'No Contact Order: ', 'No Fault Divorce', <a name=\"Nolle\">Nolle</a>, 'Nolo Contendere', 'No Contest: ', 'Non-Suit: \\r\\n\\t', 'Notarize: \\r\\n\\t', '', 'A', '', 'Oath:', 'Office of \\r\\n\\tAdult Probation', 'Order: ', 'Order to Detain: \\r\\n\\t', 'Order of Detention (Detention Order):', 'Orders of Temporary Custody: \\r\\n\\t', '', 'A', '', 'Parcel: ', 'Parenting Education \\r\\n\\tProgram', 'Parole', 'Parties: ', 'Party:', 'Paternity', 'Pendente lite order:', 'Peremptory Challenge', 'Perjury', 'Petition: ', 'Petitioner: ', 'Plaintiff:', 'Plea: ', 'Plea Bargain: ', 'Pleadings: ', 'Posting Bond: ', 'Post Judgment: \\r\\n\\t', 'Practice Book', 'Pre-Sentence Investigation:', 'Pretrial:', 'Pretrial Hearing:', 'Probable Cause Hearing:', 'Probate/Probate Court', 'Probation', 'Probation Absconder: ', 'Promise to Appear: ', 'Pro Se', 'Pro se Divorce', 'Prosecute: ', 'Prosecutor: ', 'Protective Order', 'Public Defender: ', '', 'A', '', 'Ready:', 'Record: ', 'Referee:', 'Regional Family Trial Docket', 'Residential Treatment Programs: ', 'Respondent: \\r\\n\\t', 'Rest: ', 'Restitution', 'Restraining Order', 'Return Date', 'Revocation Hearing: ', 'Rule \\r\\n\\tto Show Cause: ', '', 'A', '', 'Seal', 'Senior \\r\\n\\tJudge', 'Sentences: ', 'Sentencing: ', 'Sentence \\r\\n\\tModification', 'Sentence Review', 'Serious \\r\\n\\tJuvenile Offender: ', 'Serious Juvenile Offense: ', 'Service: ', 'Short Calendar', 'Slip Opinions', 'Small Claims', 'Special Sessions of the Superior Court', 'State \\r\\n\\tReferee:  ', 'States Attorney: ', 'Statute', 'Statute of Limitations', 'Stay:', 'Stipulation: ', 'Subpoena', 'Subpoena Duces Tecum: \\r\\n\\t ', 'Substance Abuse Education: ', 'ubstitute Charge: ', 'Summary Process', 'Summons', 'Summons (Juvenile): ', '', '', 'A', '', 'Testimony: ', 'Time Served: ', 'Title: ', 'Tort: ', 'Transcript: ', 'Transfer', 'Transfer Hearing: ', 'Trial De Novo: ', 'Trial Referee: ', '', 'A', '', 'Uncared For', 'Unconditional Discharge:', '', 'A', '', 'Vacate: ', 'Venue: ', 'Victim \\r\\n\\tServices Advocate', 'Visitation', 'Violation: ', 'Violation of Probation', 'Voir Dire: ', '', 'A', '', 'Wage \\r\\n\\tExecution', 'Wage Withholding', 'Witness: ', 'Writ: ', '', 'A', '', 'Youth: ', 'Youthful \\r\\n\\tOffender:', '']\n"
          ]
        }
      ]
    },
    {
      "cell_type": "code",
      "source": [
        "import re\n",
        "def transform_word(word):\n",
        "  if isinstance(word,str):\n",
        "    search_result = re.match(r'[a-zA-Z\\s]+',word)\n",
        "    if search_result!=None:\n",
        "      word = search_result.group()\n",
        "      word = re.sub(r'\\s+', \" \", word)\n",
        "      word = word.strip()\n",
        "      word = word.lower()\n",
        "      return word\n",
        "    else:\n",
        "      return \"\"\n",
        "  else:\n",
        "    return \"\"\n",
        "\n",
        "wl_1 = list(map(transform_word, wordsList))\n",
        "wl_1 = [x for x in wl if len(x)>2]"
      ],
      "metadata": {
        "id": "Rm6De70ZTz6F"
      },
      "execution_count": null,
      "outputs": []
    },
    {
      "cell_type": "code",
      "source": [
        "wl_1"
      ],
      "metadata": {
        "colab": {
          "base_uri": "https://localhost:8080/"
        },
        "id": "QF9Vjw25b4_X",
        "outputId": "ae9f4979-64c6-412a-c357-d949cd57d472"
      },
      "execution_count": null,
      "outputs": [
        {
          "output_type": "execute_result",
          "data": {
            "text/plain": [
              "['aka',\n",
              " 'accelerated rehabilitation',\n",
              " 'acknowledgment',\n",
              " 'action',\n",
              " 'adjournment',\n",
              " 'adjudicatory hearing',\n",
              " 'adult court transfer',\n",
              " 'adult probation',\n",
              " 'affirmation',\n",
              " 'affidavit',\n",
              " 'alcohol education program',\n",
              " 'alford doctrine',\n",
              " 'alimony',\n",
              " 'allegation',\n",
              " 'alternate juror',\n",
              " 'alternative detention program',\n",
              " 'alternative dispute resolution',\n",
              " 'alternative incarceration center',\n",
              " 'alternative sanctions',\n",
              " 'amicus curiae brief',\n",
              " 'annulment',\n",
              " 'answer',\n",
              " 'appeal',\n",
              " 'appeal bond',\n",
              " 'appearance',\n",
              " 'appellant',\n",
              " 'appellee',\n",
              " 'arbitration',\n",
              " 'arraignment',\n",
              " 'arrest',\n",
              " 'arrearages',\n",
              " 'assignment list',\n",
              " 'assistant attorney general',\n",
              " 'attachment',\n",
              " 'attorney of record',\n",
              " 'automatic orders',\n",
              " 'bail',\n",
              " 'bail bondsperson',\n",
              " 'bail commissioner',\n",
              " 'bar',\n",
              " 'best interest of the child',\n",
              " 'bench warrant',\n",
              " 'bond',\n",
              " 'bond forfeiture',\n",
              " 'bond review',\n",
              " 'bondsman',\n",
              " 'brief',\n",
              " 'broken down irretrievably',\n",
              " 'calendar',\n",
              " 'calendar call',\n",
              " 'capias mittimus',\n",
              " 'capital felony',\n",
              " 'case',\n",
              " 'case conference',\n",
              " 'case file',\n",
              " 'case flow coordinator',\n",
              " 'central transportation unit',\n",
              " 'certify',\n",
              " 'cgs',\n",
              " 'challenge',\n",
              " 'charge',\n",
              " 'charge to jury',\n",
              " 'chattels',\n",
              " 'child',\n",
              " 'child support',\n",
              " 'cip',\n",
              " 'civil action',\n",
              " 'claim',\n",
              " 'classification and program officer',\n",
              " 'common law',\n",
              " 'community service',\n",
              " 'community services coordinator',\n",
              " 'community service labor program',\n",
              " 'complaint',\n",
              " 'complex litigation',\n",
              " 'conditional discharge',\n",
              " 'contempt of court',\n",
              " 'continuance',\n",
              " 'continuance date',\n",
              " 'contract',\n",
              " 'conviction',\n",
              " 'costs',\n",
              " 'count',\n",
              " 'counter claim',\n",
              " 'court',\n",
              " 'court clerk',\n",
              " 'court interpreter',\n",
              " 'court monitor',\n",
              " 'court reporter',\n",
              " 'court services officer',\n",
              " 'court trial',\n",
              " 'crime victim compensation program',\n",
              " 'cross',\n",
              " 'custody',\n",
              " 'custody affidavit',\n",
              " 'damages',\n",
              " 'day incarceration center',\n",
              " 'declaration',\n",
              " 'default',\n",
              " 'defendant',\n",
              " 'delinquent',\n",
              " 'deposition',\n",
              " 'detention hearing or detention release hearing',\n",
              " 'discovery',\n",
              " 'dismissal',\n",
              " 'dismissal without prejudice',\n",
              " 'dispose',\n",
              " 'disposition',\n",
              " 'dissolution',\n",
              " 'diversionary programs',\n",
              " 'docket',\n",
              " 'docket number',\n",
              " 'domicile',\n",
              " 'drug court',\n",
              " 'education program',\n",
              " 'ejectment',\n",
              " 'electronic monitoring',\n",
              " 'emancipated minor',\n",
              " 'emancipation',\n",
              " 'eminent domain',\n",
              " 'eviction',\n",
              " 'evidence',\n",
              " 'ex parte',\n",
              " 'execution suspended',\n",
              " 'failure to appear',\n",
              " 'family relations counselor',\n",
              " 'family support magistrate',\n",
              " 'family violence education program',\n",
              " 'family violence victim advocate',\n",
              " 'family with service needs',\n",
              " 'felony',\n",
              " 'felony murder',\n",
              " 'financial affidavit',\n",
              " 'finding',\n",
              " 'foreclosure',\n",
              " 'foreman',\n",
              " 'garnishment',\n",
              " 'grievance',\n",
              " 'guardian',\n",
              " 'guardian ad litem',\n",
              " 'habeas corpus',\n",
              " 'hearsay',\n",
              " 'honor court',\n",
              " 'housing specialist',\n",
              " 'hung jury',\n",
              " 'incarceration',\n",
              " 'income withholding order',\n",
              " 'indigent',\n",
              " 'information',\n",
              " 'infraction',\n",
              " 'injunction',\n",
              " 'interpreter',\n",
              " 'interrogatory',\n",
              " 'investigatory grand jury',\n",
              " 'judge',\n",
              " 'judgment',\n",
              " 'judgment file',\n",
              " 'juris number',\n",
              " 'jurisdiction',\n",
              " 'juror',\n",
              " 'jury charge',\n",
              " 'jury instructions',\n",
              " 'juvenile court',\n",
              " 'juvenile delinquent',\n",
              " 'juvenile detention',\n",
              " 'juvenile detention center',\n",
              " 'juvenile detention officer',\n",
              " 'juvenile matters',\n",
              " 'juvenile probation',\n",
              " 'juvenile transportation officer',\n",
              " 'law librarian',\n",
              " 'legal aid or legal services',\n",
              " 'legal custody',\n",
              " 'legal separation',\n",
              " 'lien',\n",
              " 'lis pendens',\n",
              " 'litigant',\n",
              " 'lockout',\n",
              " 'magistrate',\n",
              " 'mandamus',\n",
              " 'marshal',\n",
              " 'mediation',\n",
              " 'minor',\n",
              " 'misdemeanor',\n",
              " 'mitigating circumstances',\n",
              " 'mittimus judgment',\n",
              " 'modification',\n",
              " 'motion',\n",
              " 'movant',\n",
              " 'moving party',\n",
              " 'murder with special circumstances',\n",
              " 'ne exeat',\n",
              " 'neglected minor',\n",
              " 'no contact order',\n",
              " 'no fault divorce',\n",
              " 'nolo contendere',\n",
              " 'no contest',\n",
              " 'non',\n",
              " 'notarize',\n",
              " 'oath',\n",
              " 'office of adult probation',\n",
              " 'order',\n",
              " 'order to detain',\n",
              " 'order of detention',\n",
              " 'orders of temporary custody',\n",
              " 'parcel',\n",
              " 'parenting education program',\n",
              " 'parole',\n",
              " 'parties',\n",
              " 'party',\n",
              " 'paternity',\n",
              " 'pendente lite order',\n",
              " 'peremptory challenge',\n",
              " 'perjury',\n",
              " 'petition',\n",
              " 'petitioner',\n",
              " 'plaintiff',\n",
              " 'plea',\n",
              " 'plea bargain',\n",
              " 'pleadings',\n",
              " 'posting bond',\n",
              " 'post judgment',\n",
              " 'practice book',\n",
              " 'pre',\n",
              " 'pretrial',\n",
              " 'pretrial hearing',\n",
              " 'probable cause hearing',\n",
              " 'probate',\n",
              " 'probation',\n",
              " 'probation absconder',\n",
              " 'promise to appear',\n",
              " 'pro se',\n",
              " 'pro se divorce',\n",
              " 'prosecute',\n",
              " 'prosecutor',\n",
              " 'protective order',\n",
              " 'public defender',\n",
              " 'ready',\n",
              " 'record',\n",
              " 'referee',\n",
              " 'regional family trial docket',\n",
              " 'residential treatment programs',\n",
              " 'respondent',\n",
              " 'rest',\n",
              " 'restitution',\n",
              " 'restraining order',\n",
              " 'return date',\n",
              " 'revocation hearing',\n",
              " 'rule to show cause',\n",
              " 'seal',\n",
              " 'senior judge',\n",
              " 'sentences',\n",
              " 'sentencing',\n",
              " 'sentence modification',\n",
              " 'sentence review',\n",
              " 'serious juvenile offender',\n",
              " 'serious juvenile offense',\n",
              " 'service',\n",
              " 'short calendar',\n",
              " 'slip opinions',\n",
              " 'small claims',\n",
              " 'special sessions of the superior court',\n",
              " 'state referee',\n",
              " 'states attorney',\n",
              " 'statute',\n",
              " 'statute of limitations',\n",
              " 'stay',\n",
              " 'stipulation',\n",
              " 'subpoena',\n",
              " 'subpoena duces tecum',\n",
              " 'substance abuse education',\n",
              " 'ubstitute charge',\n",
              " 'summary process',\n",
              " 'summons',\n",
              " 'summons',\n",
              " 'testimony',\n",
              " 'time served',\n",
              " 'title',\n",
              " 'tort',\n",
              " 'transcript',\n",
              " 'transfer',\n",
              " 'transfer hearing',\n",
              " 'trial de novo',\n",
              " 'trial referee',\n",
              " 'uncared for',\n",
              " 'unconditional discharge',\n",
              " 'vacate',\n",
              " 'venue',\n",
              " 'victim services advocate',\n",
              " 'visitation',\n",
              " 'violation',\n",
              " 'violation of probation',\n",
              " 'voir dire',\n",
              " 'wage execution',\n",
              " 'wage withholding',\n",
              " 'witness',\n",
              " 'writ',\n",
              " 'youth',\n",
              " 'youthful offender']"
            ]
          },
          "metadata": {},
          "execution_count": 115
        }
      ]
    },
    {
      "cell_type": "code",
      "source": [
        "len(wl_1)"
      ],
      "metadata": {
        "colab": {
          "base_uri": "https://localhost:8080/"
        },
        "id": "o9LDiN7ziNZ-",
        "outputId": "bc61c7d0-f3c2-42ba-fb1f-2fd6243937f2"
      },
      "execution_count": null,
      "outputs": [
        {
          "output_type": "execute_result",
          "data": {
            "text/plain": [
              "299"
            ]
          },
          "metadata": {},
          "execution_count": 99
        }
      ]
    },
    {
      "cell_type": "markdown",
      "source": [
        "uscourts"
      ],
      "metadata": {
        "id": "VzlZ43lOiED7"
      }
    },
    {
      "cell_type": "code",
      "source": [
        "url_2 = \"https://www.uscourts.gov/glossary\""
      ],
      "metadata": {
        "id": "QwNq1a71cpCN"
      },
      "execution_count": null,
      "outputs": []
    },
    {
      "cell_type": "code",
      "source": [
        "page = requests.get(url_2).text\n",
        "soup = BeautifulSoup(page, 'html.parser')\n",
        "wordsList_2= [dt.text for dt in soup.find_all('dt')]"
      ],
      "metadata": {
        "id": "F1hW3GociU8Y"
      },
      "execution_count": null,
      "outputs": []
    },
    {
      "cell_type": "code",
      "source": [
        "wordsList_2"
      ],
      "metadata": {
        "id": "qp8WBmO1keBn"
      },
      "execution_count": null,
      "outputs": []
    },
    {
      "cell_type": "code",
      "source": [
        "wl_2 = list(map(transform_word, wordsList_2))\n",
        "wl_2 = [x for x in wl_2 if len(x)>2]"
      ],
      "metadata": {
        "id": "LP_SZNHyinQP"
      },
      "execution_count": null,
      "outputs": []
    },
    {
      "cell_type": "code",
      "source": [
        "wl_2"
      ],
      "metadata": {
        "id": "R-rlElBgio5G"
      },
      "execution_count": null,
      "outputs": []
    },
    {
      "cell_type": "code",
      "source": [
        "len(wl_2)"
      ],
      "metadata": {
        "colab": {
          "base_uri": "https://localhost:8080/"
        },
        "id": "E4ydYndeisrF",
        "outputId": "16d0571c-3c0e-4661-9a3e-1b81d5bb6e66"
      },
      "execution_count": null,
      "outputs": [
        {
          "output_type": "execute_result",
          "data": {
            "text/plain": [
              "234"
            ]
          },
          "metadata": {},
          "execution_count": 129
        }
      ]
    },
    {
      "cell_type": "markdown",
      "source": [
        "Law.com"
      ],
      "metadata": {
        "id": "mL8vVxXgnGfI"
      }
    },
    {
      "cell_type": "code",
      "source": [
        "url_3 = \"https://dictionary.law.com/Default.aspx?letter=\" #+A"
      ],
      "metadata": {
        "id": "XpFWsY2jmxzx"
      },
      "execution_count": null,
      "outputs": []
    },
    {
      "cell_type": "code",
      "source": [
        "import string\n",
        "alphabet_string = string.ascii_uppercase\n",
        "alphabet = list(alphabet_string)\n",
        "\n",
        "wordsList_3 = []\n",
        "for letter in alphabet:\n",
        "  page = requests.get(url_3+letter).text\n",
        "  soup = BeautifulSoup(page, 'html.parser')\n",
        "  wordsList_3+=[word.text for word in soup.find_all(\"span\",\"word\")]"
      ],
      "metadata": {
        "id": "dI-8sBCOnRCA"
      },
      "execution_count": null,
      "outputs": []
    },
    {
      "cell_type": "code",
      "source": [
        "wl_3 = list(map(transform_word, wordsList_3))\n",
        "wl_3 = [x for x in wl_3 if len(x)>2]"
      ],
      "metadata": {
        "id": "a8vZvwa2p1lP"
      },
      "execution_count": null,
      "outputs": []
    },
    {
      "cell_type": "code",
      "source": [
        "print(wl_3)"
      ],
      "metadata": {
        "colab": {
          "base_uri": "https://localhost:8080/"
        },
        "id": "JLwspXf3oqdw",
        "outputId": "ff23a568-7f13-4d6c-9161-939a6459c327"
      },
      "execution_count": null,
      "outputs": [
        {
          "output_type": "stream",
          "name": "stdout",
          "text": [
            "['a fortiori', 'a priori assumption', 'ab initio', 'abandon', 'abandoned property', 'abandonment', 'abate', 'abatement', 'abduction', 'abet', 'abeyance', 'able', 'abortion', 'abrogate', 'abscond', 'absolute', 'abstention doctrine', 'abstract', 'abstract of judgment', 'abstract of title', 'abuse of discretion', 'abuse of process', 'abut', 'acceleration', 'acceleration clause', 'accept', 'acceptance', 'acceptance of service', 'access', 'accessory', 'accommodation', 'accomplice', 'accord and satisfaction', 'account stated', 'accounts payable', 'accounts receivable', 'accretion', 'accrue', 'accusation', 'accused', 'acknowledge', 'acknowledgment', 'acquit', 'acquittal', 'act', 'act of god', 'action', 'actionable', 'actual controversy', 'actual notice', 'ad hoc', 'ad litem', 'ad seriatim', 'ad valorem', 'addendum', 'adeem', 'ademption', 'adequate remedy', 'adhesion contract', 'adjourn', 'adjudication', 'adjusted basis', 'adjuster', 'administer', 'administrative hearing', 'administrative law', 'administrative law judge', 'administrative procedure act', 'administrator', 'admiralty', 'admissible evidence', 'admission', 'admission against interest', 'admission of evidence', 'admission of guilt', 'admission to bail', 'admit', 'adopt', 'adoption', 'adultery', 'advance', 'advancement', 'adverse', 'adverse interest', 'adverse party', 'adverse possession', 'adverse witness', 'advisory opinion', 'affiant', 'affidavit', 'affirm', 'affirmative action', 'affirmative defense', 'affix', 'after', 'after', 'after', 'age discrimination', 'age of consent', 'agency', 'agent', 'agent for acceptance of service', 'aggravated assault', 'agreed statement', 'agreement', 'aid and abet', 'aleatory', 'alias', 'alibi', 'alien', 'alienation', 'alienation of affections', 'alimony', 'aliquot', 'all the estate i own', 'allegation', 'allege', 'alluvion', 'alter ego', 'alternative pleading', 'ambiguity', 'amend', 'amended complaint', 'amended pleading', 'american bar association', 'american civil liberties union', 'american depository receipt', 'amicus curiae', 'amnesty', 'amortization', 'ancillary administration', 'ancillary jurisdiction', 'and', 'annuity', 'answer', 'antenuptial', 'anticipatory breach', 'antitrust laws', 'apparent authority', 'appeal', 'appear', 'appearance', 'appellant', 'appellate court', 'appellee', 'appraise', 'appraiser', 'appreciate', 'appreciation', 'approach', 'approach the bench', 'approach the witness', 'appurtenant', 'arbiter', 'arbitrary', 'arbitration', 'arbitrator', 'arguendo', 'argumentative', 'arm', 'arraign', 'arraignment', 'arrears', 'arrest', 'arrest warrant', 'arson', 'article', 'articles of impeachment', 'articles of incorporation', 'as is', 'assault', 'assault and battery', 'assess', 'asset', 'assign', 'assigned risk', 'assignee', 'assignment', 'assignment for benefit of creditors', 'associate justice', 'association', 'assume', 'assumption', 'assumption of risk', 'assured', 'at will employment', 'attached', 'attachment', 'attempt', 'attest', 'attestation', 'attorney', 'attorney at law', 'attorney general', 'attorney of record', 'attorney', 'attorney', 'attorney', 'attorney', 'attorney', 'attractive nuisance doctrine', 'audit', 'auditor', 'authorities', 'authority', 'authorize', 'avulsion', 'award', 'bachelor of laws', 'back', 'bad debt', 'bad faith', 'bail', 'bail bond', 'bail bondsman', 'bailee', 'bailiff', 'bailment', 'bailor', 'bait and switch', 'balance due', 'balance sheet', 'bank', 'bankruptcy', 'bankruptcy court', 'bankruptcy proceedings', 'bar', 'bar association', 'bar examination', 'bargain', 'barratry', 'barrister', 'basis', 'battery', 'beach bum trust provision', 'bearer', 'bearer paper', 'belief', 'bench', 'bench warrant', 'beneficial interest', 'beneficial use', 'beneficiary', 'benefit', 'benefit of counsel', 'bequeath', 'bequest', 'best evidence rule', 'bestiality', 'beyond a reasonable doubt', 'bfp', 'bias', 'bid', 'bifurcate', 'bifurcation', 'bigamy', 'bilateral contract', 'bill', 'bill of attainder', 'bill of exchange', 'bill of lading', 'bill of particulars', 'bill of rights', 'bill of sale', 'binder', 'blackmail', 'blank endorsement', 'blue laws', 'blue ribbon jury', 'blue sky laws', 'board of directors', 'boiler room', 'boilerplate', 'bona fide', 'bona fide purchaser', 'bond', 'bondsman', 'booby trap', 'book account', 'book value', 'bottomry', 'boycott', 'breach', 'breach of contract', 'breach of promise', 'breach of the peace', 'breach of trust', 'breach of warranty', 'breaking and entering', 'bribery', 'brief', 'broker', 'brought to trial', 'bucket shop', 'building and loan', 'bulk sale', 'bulk sales acts', 'bulk transfer', 'burden', 'burden of proof', 'burglary', 'business', 'business invitee', 'but for rule', 'buy', 'bylaws', 'calendar', 'calendar call', 'call', 'calumny', 'cancel', 'cancellation', 'caning', 'canon law', 'cap', 'capital', 'capital account', 'capital assets', 'capital expenditure', 'capital gains', 'capital investment', 'capital offense', 'capital punishment', 'capital stock', 'capitalization', 'capitalized value', 'capricious', 'caption', 'care', 'careless', 'carnal knowledge', 'carrier', 'carryback', 'carrying for hire', 'carrying on business', 'carryover', 'cartel', 'case', 'case law', 'case of first impression', 'case system', 'cashier', 'casual', 'casualty', 'casualty loss', 'cause', 'cause of action', 'caveat', 'caveat emptor', 'cease and desist order', 'certificate of deposit', 'certificate of incorporation', 'certificate of title', 'certified check', 'certiorari', 'cestui que trust', 'cestui que use', 'chain of title', 'challenge', 'challenge for cause', 'chambers', 'champerty', 'chancellor', 'chancery', 'change of circumstances', 'character witness', 'charge', 'charitable contribution', 'charitable remainder trust', 'charity', 'charter', 'chattel', 'chattel mortgage', 'check', 'chief justice', 'child', 'child custody', 'child support', 'churning', 'circuit courts', 'circumstantial evidence', 'citation', 'cite', 'citizen', 'civil', 'civil action', 'civil calendar', 'civil code', 'civil law', 'civil liability', 'civil liberties', 'civil penalties', 'civil procedure', 'civil rights', 'claim', 'claim against a governmental agency', 'claim against an estate', 'claim in bankruptcy', 'class', 'class action', 'clean hands doctrine', 'clear and convincing evidence', 'clear and present danger', 'clear title', 'clerk', 'close corporation', 'closed shop', 'closing', 'closing argument', 'cloud on title', 'code', 'code of professional responsibility', 'codefendant', 'codicil', 'codify', 'cohabitation', 'coinsurance', 'collateral', 'collateral attack', 'collateral descendant', 'collateral estoppel', 'collusion', 'collusive action', 'color of law', 'color of title', 'comaker', 'comity', 'commencement of action', 'comment', 'commercial frustration', 'commercial law', 'commingling', 'commission', 'commitment', 'common area', 'common carrier', 'common counts', 'common law', 'common property', 'common stock', 'common', 'community property', 'commutation', 'commute a sentence', 'company', 'comparative negligence', 'compensation', 'compensatory damages', 'competent', 'complainant', 'complaint', 'compos mentis', 'compound interest', 'compound question', 'compounding a felony', 'compromise', 'compromise verdict', 'concealed weapon', 'concealment', 'conclusion', 'conclusion of fact', 'conclusion of law', 'concurrent sentences', 'condemn', 'condemnation', 'condemnation action', 'condition', 'condition precedent', 'condition subsequent', 'conditional bequest', 'conditional sale', 'condominium', 'condone', 'confess', 'confession', 'confession and avoidance', 'confession of judgment', 'confidence game', 'confidential communication', 'confidential relation', 'confiscate', 'conflict of interest', 'conflict of law', 'confrontation', 'confusingly similar', 'conjugal rights', 'conscientious objector', 'conscious parallelism', 'consent', 'consent decree', 'consent judgment', 'consequential damages', 'conservatee', 'conservator', 'consideration', 'consign', 'consignee', 'consignment', 'consortium', 'conspiracy', 'conspirator', 'constable', 'constitution', 'constitutional rights', 'construction', 'constructive', 'constructive eviction', 'constructive fraud', 'constructive notice', 'constructive possession', 'constructive trust', 'construe', 'consumer protection laws', 'contemplation of death', 'contempt of court', 'contiguous', 'contingency', 'contingent', 'contingent beneficiary', 'contingent fee', 'contingent interest', 'contingent remainder', 'continuance', 'continuing objection', 'continuing trespass', 'contra', 'contract', 'contract of adhesion', 'contractor', 'contribution', 'contributory negligence', 'control', 'controlled substance', 'controlling law', 'controversy', 'conversion', 'convey', 'conveyance', 'convict', 'conviction', 'cooperative', 'cooperative housing', 'cop a plea', 'copartner', 'copyright', 'coroner', 'corporate opportunity', 'corporation', 'corpus', 'corpus delicti', 'corpus juris', 'corroborate', 'corroborating evidence', 'cosign', 'cost bill', 'cost of completion', 'costs', 'cotenancy', 'cotenant', 'counsel', 'counsellor', 'count', 'counter offer', 'counterclaim', 'counterfeit', 'counterpart', 'course', 'course of employment', 'court', 'court calendar', 'court costs', 'court docket', 'court of appeals', 'court of customs and patent appeals', 'court of equity', 'court of law', 'court trial', 'court', 'covenant', 'covenant not to compete', 'covenant that runs with the land', 'covenants', 'credibility', 'credible witness', 'creditor', 'creditor', 'creditor', 'crime', 'crime against nature', 'crime of passion', 'criminal', 'criminal attorney', 'criminal calendar', 'criminal justice', 'criminal law', 'cross', 'cross', 'cruel and unusual punishment', 'cruelty', 'cruelty to animals', 'culpability', 'culpable', 'cumis counsel', 'cumulative sentence', 'cumulative voting', 'curtesy', 'custody', 'customs court', 'cut a check', 'cy pres doctrine', 'damages', 'dangerous', 'dangerous weapon', 'date rape', 'day in court', 'de facto', 'de facto corporation', 'de jure', 'de jure corporation', 'de minimis', 'de novo', 'deadly weapon', 'dealer', 'death penalty', 'death row', 'debenture', 'debt', 'debtor', 'debtor in possession', 'deceased', 'decedent', 'deceit', 'deception', 'decide', 'decision', 'declarant', 'declaration', 'declaration of mailing', 'declaration of trust', 'declaratory judgment', 'declaratory relief', 'decree', 'decriminalization', 'dedication', 'deduction', 'deed', 'deed of trust', 'defalcation', 'defamation', 'default', 'default judgment', 'defeasance', 'defect', 'defective', 'defective title', 'defendant', 'defense', 'defense attorney', 'deficiency judgment', 'deficit', 'defraud', 'degree of kinship', 'delayed exchange', 'delegate', 'deleterious', 'deliberate', 'deliberation', 'delinquent', 'deliver', 'delivery', 'demand', 'demand note', 'demise', 'demonstrative evidence', 'demurrer', 'denial', 'dependent', 'depletion', 'deponent', 'deportation', 'depose', 'deposition', 'depreciate', 'depreciation', 'depreciation reserve', 'derelict', 'dereliction', 'derivative action', 'descent', 'descent and distribution', 'desert', 'desertion', 'determinable', 'deuce', 'devise', 'devisee', 'devolution', 'devolve', 'dicta', 'dictum', 'diligence', 'diminished capacity', 'diminution in value', 'direct and proximate cause', 'direct evidence', 'direct examination', 'directed verdict', 'director', 'disability', 'disbar', 'disbarment', 'discharge', 'discharge in bankruptcy', 'disclaimer', 'discount', 'discovery', 'discretion', 'discrimination', 'disfigure', 'dishonor', 'disinherit', 'disinheritance', 'disjunctive allegations', 'dismiss', 'dismissal', 'dismissal with prejudice', 'dismissal without prejudice', 'disorderly conduct', 'disorderly house', 'disposing mind and memory', 'disposition', 'dispossess', 'dissent', 'dissenting opinion', 'dissolution', 'dissolution of corporation', 'distinguish', 'distress', 'distribute', 'distribution', 'district attorney', 'district court', 'disturbing the peace', 'diversion', 'diversity of citizenship', 'divestiture', 'divestment', 'dividend', 'divorce', 'dna', 'docket', 'document', 'documentary evidence', 'doing business', 'domestic partners', 'domestic relations', 'domestic violence', 'domicile', 'dominant estate', 'dominant tenement', 'donation', 'donative intent', 'donee', 'donor', 'double jeopardy', 'double taxation', 'dower', 'dowry', 'draft', 'dram shop rule', 'draw', 'drawee', 'drawer', 'driving under the influence', 'driving while intoxicated', 'drop dead date', 'due', 'due and owing', 'due care', 'due process of law', 'due', 'duress', 'duty', 'duty of care', 'dying declaration', 'earnest payment', 'easement', 'egress', 'eir', 'ejectment', 'ejusdem generis', 'elder law', 'election of remedies', 'election under the will', 'eleemosynary', 'element', 'emancipation', 'embezzlement', 'embezzler', 'emblements', 'emergency', 'eminent domain', 'emolument', 'emotional distress', 'employee', 'employer', 'employment', 'en banc', 'enabling clause', 'enclosure', 'encroach', 'encroachment', 'encumbrance', 'endorse', 'endorsement', 'endowment', 'enjoin', 'enjoyment', 'enter a judgment', 'entity', 'entrapment', 'entry of judgment', 'environmental impact report', 'environmental law', 'equal opportunity', 'equal protection of the law', 'equitable', 'equitable estoppel', 'equitable lien', 'equity', 'equity of redemption', 'equivalent', 'ergo', 'erroneous', 'error', 'errors and omissions', 'escalator clause', 'escape clause', 'escheat', 'escrow', 'escrow agent', 'escrow instructions', 'espionage', 'esquire', 'estate', 'estate by entirety', 'estate tax', 'estop', 'estoppel', 'et al', 'et seq', 'et ux', 'evasion of tax', 'eviction', 'evidence', 'ex delicto', 'ex officio', 'ex parte', 'ex post facto', 'ex rel', 'examination', 'exception', 'exception in deed', 'excessive bail', 'exchange', 'excise', 'exclusionary rule', 'exculpatory', 'excusable neglect', 'execute', 'executed', 'execution', 'executive clemency', 'executive order', 'executive privilege', 'executor', 'executory', 'executory interest', 'executrix', 'exemplary damages', 'exemption', 'exhibit', 'expectancy', 'expense', 'expert testimony', 'expert witness', 'express', 'express contract', 'expropriation', 'extension', 'extenuating circumstances', 'extinguishment', 'extortion', 'extradition', 'extrajudicial', 'extraordinary fees', 'extreme cruelty', 'extrinsic fraud', 'eyewitness', 'face amount', 'face value', 'fact', 'fact finder', 'factor', 'failure of consideration', 'failure of issue', 'fair comment', 'fair market value', 'fair trade laws', 'fair use', 'false arrest', 'false imprisonment', 'false pretenses', 'family', 'family purpose doctrine', 'federal courts', 'federal question', 'federal tort claims act', 'fee', 'fee simple', 'fee tail', 'felon', 'felonious', 'felony', 'felony murder doctrine', 'fertile octogenarian', 'fictitious defendants', 'fiduciary', 'fiduciary relationship', 'fighting words', 'file', 'final decree', 'final judgment', 'final settlement', 'finding', 'findings of fact', 'firm offer', 'first degree murder', 'first impression', 'fixture', 'flight', 'floating easement', 'fob', 'for value received', 'forbearance', 'forced sale', 'forcible entry', 'foreclosure', 'foreclosure sale', 'foreign corporation', 'forensic', 'forensic medicine', 'forensic testimony', 'forensics', 'foreseeability', 'foreseeable risk', 'forfeit', 'forfeiture', 'forger', 'forgery', 'fornication', 'forthwith', 'forum', 'forum non conveniens', 'foster child', 'four corners of an instrument', 'franchise', 'franchise tax', 'fraud', 'fraud in the inducement', 'fraudulent conveyance', 'free and clear', 'free on board', 'freehold', 'fresh pursuit', 'friendly suit', 'frisk', 'frivolous', 'fruit of the poisonous tree', 'frustration of purpose', 'fugitive from justice', 'full disclosure', 'full faith and credit', 'fungible things', 'future interest', 'gag order', 'garnish', 'garnishee', 'garnishment', 'gender bias', 'general appearance', 'general counsel', 'general damages', 'general denial', 'general partner', 'general plan', 'generation skipping', 'gift', 'gift in contemplation of death', 'gift tax', 'go bail', 'good cause', 'good faith', 'good samaritan rule', 'good title', 'goods', 'goodwill', 'governmental immunity', 'grace period', 'grand jury', 'grand larceny', 'grand theft', 'grandfather clause', 'grandfathered in', 'grant', 'grant deed', 'grantee', 'grantor', 'grantor', 'gratuitous', 'gravamen', 'gross income', 'gross negligence', 'guarantee', 'guarantor', 'guaranty', 'guardian', 'guardian ad litem', 'guest', 'guest statute', 'guilty', 'habeas corpus', 'habitable', 'habitual criminal', 'half blood', 'harass', 'harassment', 'harmless error', 'head of household', 'headnote', 'hearing', 'hearsay', 'hearsay rule', 'heat of passion', 'heir', 'heir apparent', 'heiress', 'heirs of the body', 'held', 'hereditament', 'hidden asset', 'highway', 'hit and run', 'hobby loss', 'hold harmless', 'holder', 'holder in due course', 'holding', 'holding company', 'holdover tenancy', 'holographic will', 'home rule', 'homestead', 'hometowned', 'homicide', 'hornbook law', 'hostile possession', 'hostile witness', 'hot pursuit', 'hotchpot', 'house counsel', 'household', 'hung jury', 'hypothecate', 'illegal', 'illegal immigrant', 'illusory promise', 'immaterial', 'immediately', 'immunity', 'impanel', 'impaneling', 'impeach', 'impeachment', 'impleader', 'implied', 'implied consent', 'implied contract', 'implied covenant of good faith and fair dealing', 'implied warranty', 'impossibility', 'impotence', 'impound', 'improvement', 'impute', 'in absentia', 'in camera', 'in chambers', 'in extremis', 'in fee simple', 'in forma pauperis', 'in haec verba', 'in kind', 'in lieu', 'in limine', 'in loco parentis', 'in pari delicto', 'in perpetuity', 'in personam', 'in pro per', 'in propria persona', 'in re', 'in rem', 'in terrorem clause', 'in toto', 'incapacity', 'incest', 'inchoate', 'incidental beneficiary', 'income', 'income tax', 'incompatibility', 'incompatible', 'incompetency', 'incompetent', 'incompetent evidence', 'incontrovertible evidence', 'incorporate', 'incorporate by reference', 'incorporation', 'incorporeal', 'incriminate', 'incumbrance', 'indecent exposure', 'indefeasible', 'indemnify', 'indemnity', 'indenture', 'independent contractor', 'indeterminate sentence', 'indicia', 'indictable offense', 'indictment', 'indigent', 'indispensable party', 'indorse', 'indorsement', 'infancy', 'inference', 'information', 'information and belief', 'informed consent', 'infra', 'infringement', 'ingress', 'inherit', 'inheritance', 'injunction', 'injunctive relief', 'injury', 'innocent', 'innuendo', 'inquest', 'insanity', 'insanity defense', 'insertion', 'insider', 'insider trading', 'insolvency', 'inspection of documents', 'installment contract', 'instruction', 'instrument', 'insufficient evidence', 'insurance', 'insured', 'insurer', 'intangible property', 'integration', 'intent', 'inter alia', 'inter se', 'inter vivos', 'inter vivos trust', 'interest', 'interim order', 'interlineation', 'interlocutory', 'interlocutory decree', 'international law', 'interpleader', 'interrogation', 'interrogatories', 'interstate commerce', 'intervene', 'intervening cause', 'intervention', 'intestacy', 'intestate', 'intestate succession', 'intoxication', 'intrinsic fraud', 'inure', 'invasion of privacy', 'inverse condemnation', 'invest', 'investment', 'invitee', 'involuntary', 'ipse dixit', 'ipso facto', 'irreconcilable differences', 'irrelevant', 'irreparable damage or injury', 'issue', 'jane doe', 'jaywalking', 'jeopardy', 'jobber', 'john doe', 'joinder', 'joinder of issue', 'joint', 'joint adventure', 'joint and several', 'joint custody', 'joint enterprise', 'joint liability', 'joint powers agreement', 'joint tenancy', 'joint tortfeasors', 'joint venture', 'jones act', 'judge', 'judge advocate', 'judge advocate general', 'judgment', 'judgment by default', 'judgment creditor', 'judgment debt', 'judgment debtor', 'judgment notwithstanding the verdict', 'judicial', 'judicial discretion', 'judicial foreclosure', 'judicial notice', 'judicial proceedings', 'judicial sale', 'jump bail', 'jurat', 'juris doctor', 'jurisdiction', 'jurisdictional amount', 'jurisprudence', 'jurist', 'juror', 'jury', 'jury box', 'jury fees', 'jury of one', 'jury panel', 'jury selection', 'jury stress', 'jury tampering', 'jury trial', 'just compensation', 'justice', 'justice of the peace', 'justiciable', 'justifiable homicide', 'juvenile court', 'juvenile delinquent', 'kangaroo court', 'kidnapping', 'kin', 'labor and materials', 'laches', 'land', 'landlady', 'landlocked', 'landlord', 'landlord and tenant', 'landlord', 'lapse', 'larceny', 'last antecedent rule', 'last clear chance', 'last will and testament', 'latent defect', 'lateral support', 'law', 'law and motion calendar', 'law book', 'law of admiralty', 'law of the case', 'law of the land', 'lawsuit', 'lay a foundation', 'leading', 'leading question', 'leading the witness', 'lease', 'leasehold', 'legacy', 'legal', 'legal action', 'legal advertising', 'legal age', 'legal aid society', 'legal duty', 'legal fiction', 'legal separation', 'legal services', 'legal tender', 'legalese', 'legatee', 'legitimate', 'lemon law', 'lessee', 'lesser crime', 'lesser', 'lessor', 'let', 'letter of credit', 'letters', 'letters of administration', 'letters testamentary', 'leverage', 'levy', 'lewd and lascivious', 'liability', 'liable', 'libel', 'libel per se', 'liberty', 'license', 'licensee', 'licensor', 'lie detector test', 'lien', 'lienor', 'life estate', 'life without possibility of parole', 'limitation of actions', 'limited jurisdiction', 'limited liability', 'limited partnership', 'lineal descendant', 'lineup', 'liquidate', 'liquidated damages', 'lis pendens', 'literary property', 'litigant', 'litigation', 'litigious', 'living trust', 'living will', 'locus', 'loiter', 'long cause', 'long', 'loss', 'loss of bargain', 'loss of consortium', 'loss of use', 'lower court', 'magistrate', 'magna carta', 'mail box rule', 'maim', 'majority', 'make', 'make one whole', 'maker', 'malfeasance', 'malice', 'malice aforethought', 'malicious prosecution', 'malpractice', 'malum in se', 'malum prohibitum', 'mandamus', 'mandate', 'mandatory', 'mandatory joinder', 'manifest', 'mann act', 'manslaughter', 'marital deduction', 'marital rights', 'maritime law', 'mark', 'marked for identification', 'market value', 'marketable title', 'marriage', 'marshal', 'martial law', 'massachusetts trust', 'master', 'master and servant', 'material', 'material representation', 'material witness', 'matter of record', 'maturity', 'maxims', 'may', 'mayhem', 'mcnabb', 'mechanic', 'mediation', 'mediator', 'meet and confer', 'meeting of the minds', 'memorandum', 'mens rea', 'mental anguish', 'mental competency', 'mental cruelty', 'mental suffering', 'mercantile law', 'merchantable', 'merger', 'mesne', 'mesne profits', 'metes and bounds', 'military law', 'mining claim', 'ministerial act', 'minor', 'minority', 'minutes', 'miranda warning', 'mirror wills', 'misadventure', 'misappropriation', 'misdemeanor', 'misfeasance', 'misjoinder', 'misnomer', 'misprision of a felony', 'misrepresentation', 'mistake', 'mistrial', 'mitigating circumstances', 'mitigation of damages', 'modification', 'modus operandi', 'moiety', 'molestation', 'monopoly', 'month', 'monument', 'moot', 'moot court', 'moot point', 'moral certainty', 'moral turpitude', 'moratorium', 'mortgage', 'mortgagee', 'mortgagor', 'motion', 'motion for a new trial', 'motion for a summary judgment', 'motion for dismissal', 'motion in limine', 'motion to strike', 'motion to suppress', 'motive', 'mouthpiece', 'movant', 'move', 'multifarious', 'multiplicity of suits', 'municipal', 'municipal court', 'muniment of title', 'murder', 'mutual', 'mutual wills', 'national labor relations board', 'natural law', 'natural person', 'necessary', 'necessary inference', 'necessary party', 'negative declaration', 'negative pregnant', 'negligence', 'negligence per se', 'negligent', 'negotiable instrument', 'negotiation', 'net', 'net estate', 'new matter', 'next friend', 'next of kin', 'nihil', 'nil', 'nisi prius', 'no contest', 'no fault divorce', 'no fault insurance', 'nolle prosequi', 'nolo contendere', 'nominal damages', 'nominal party', 'nominee', 'non compos mentis', 'non sequitur', 'non', 'non', 'non', 'non', 'non', 'non', 'non', 'not guilty', 'not guilty by reason of insanity', 'notary', 'notary public', 'note', 'notice', 'notice of default', 'notice to quit', 'notorious possession', 'novation', 'noxious', 'nugatory', 'nuisance', 'nullity', 'nunc pro tunc', 'oath', 'obiter dicta', 'object', 'objection', 'obligation', 'obligee', 'obligor', 'obscene', 'obstruction of justice', 'occupancy', 'occupant', 'occupation', 'occupational disease', 'occupational hazard', 'occupy the field', 'of counsel', 'off calendar', 'offender', 'offense', 'offer', 'offer of proof', 'offeree', 'offeror', 'officer', 'officer of the court', 'official', 'official misconduct', 'officious intermeddler', 'offset', 'offshore corporation', 'omission', 'omnibus clause', 'on all fours', 'on demand', 'on file', 'on or about', 'on or before', 'on the merits', 'on the stand', 'open court', 'opening statement', 'operation of law', 'opinion', 'option', 'oral contract', 'order', 'order to show cause', 'ordinance', 'ordinary', 'ordinary course of business', 'original jurisdiction', 'orphan', 'ostensible agent', 'ostensible authority', 'ouster', 'out of court', 'out', 'outbuilding', 'outlaw', 'output contract', 'overcharge', 'overrule', 'overt act', 'owe', 'own', 'own recognizance', 'owner', 'ownership', 'paid into court', 'pain and suffering', 'palimony', 'pander', 'panderer', 'panel', 'paper hanger', 'par', 'paralegal', 'paramount title', 'parcel', 'pardon', 'parens patriae', 'parent', 'parental neglect', 'pari delicto', 'parish', 'parody', 'parol', 'parol evidence rule', 'parole', 'partial', 'partial breach', 'partial disability', 'partial verdict', 'participate', 'partition', 'partner', 'partnership', 'party', 'party of the first part', 'party of the second part', 'party wall', 'passenger', 'passion', 'passive', 'patent', 'patent ambiguity', 'patent defect', 'patent infringement', 'patent pending', 'paternity suit', 'pawn', 'pay', 'payable', 'payable on demand', 'payee', 'payment in due course', 'payment in full', 'payor', 'peace bond', 'peaceable possession', 'peculation', 'pecuniary', 'pedophilia', 'peeping tom', 'peer', 'peer review', 'penal', 'penalty', 'pendent jurisdiction', 'pendente lite', 'penitentiary', 'people', 'per', 'per capita', 'per curiam', 'per diem', 'per se', 'per stirpes', 'peremptory', 'peremptory challenge', 'peremptory writ of mandate', 'perfect', 'perfected', 'perform', 'performance', 'perjurer', 'perjury', 'permanent disability', 'permanent injunction', 'permanent injury', 'permissive', 'permit', 'perpetuity', 'person', 'personal effects', 'personal property', 'personal service', 'personal services', 'personalty', 'petit jury', 'petition', 'petitioner', 'petty larceny', 'physician', 'picketing', 'pierce the corporate veil', 'pilferage', 'pimp', 'pink slip', 'piracy', 'plagiarism', 'plain error', 'plain view doctrine', 'plaintiff', 'plaintiff', 'plea', 'plea bargain', 'plea in abatement', 'plead', 'pleading', 'pledge', 'plenary', 'police court', 'police powers', 'political question', 'polygamy', 'polygraph', 'pornography', 'positive law', 'posse comitatus', 'possess', 'possession', 'possession of stolen goods', 'possessory interest', 'possibility of a reverter', 'post', 'post mortem', 'postdated check', 'pot', 'pour over will', 'power', 'power of acceptance', 'power of appointment', 'power of attorney', 'practicable', 'practice', 'pray', 'prayer', 'precatory', 'precedent', 'predecease', 'preemption', 'preemptive right', 'preference', 'preferred dividend', 'preferred stock', 'preliminary hearing', 'preliminary injunction', 'premeditation', 'premises', 'premium', 'prenuptial agreement', 'preponderance of the evidence', 'prerogative writ', 'prescription', 'prescriptive easement', 'presentment', 'presiding judge', 'presumption', 'presumption of innocence', 'pretermitted heir', 'pretrial discovery', 'prevailing party', 'price fixing', 'prima facie', 'prima facie case', 'prime suspect', 'primogeniture', 'principal', 'principal place of business', 'prior restraint', 'prior', 'priority', 'privacy', 'private carrier', 'private nuisance', 'private parts', 'private property', 'private road', 'privilege', 'privilege against self incrimina', 'privileged communication', 'privileges and immunities', 'privity', 'pro bono', 'pro forma', 'pro hac vice', 'pro per', 'pro rata', 'pro se', 'pro tanto', 'pro tem', 'pro tempore', 'probable cause', 'probate', 'probation', 'probative', 'probative facts', 'probative value', 'procedure', 'proceeding', 'process', 'process server', 'proctor', 'product liability', 'professional corporation', 'professional negligence', 'proffer', 'prohibition', 'promise', 'promissory estoppel', 'promissory note', 'promoter', 'promotional stock', 'proof', 'proper party', 'property', 'property damage', 'property tax', 'propria persona', 'proprietary', 'proprietary interest', 'proprietary rights', 'proprietor', 'prosecute', 'prosecution', 'prosecutor', 'prospectus', 'prostitute', 'prostitution', 'protective custody', 'protest', 'prove', 'provisional remedy', 'proviso', 'proximate cause', 'proxy', 'prudent man rule', 'public', 'public administrator', 'public benefit corporation', 'public charge', 'public corporation', 'public defender', 'public domain', 'public easement', 'public figure', 'public nuisance', 'public property', 'public record', 'public trust doctrine', 'public use', 'public utility', 'publication', 'publish', 'puffing', 'punitive damages', 'putative', 'quantum meruit', 'quash', 'quasi', 'quasi community property', 'quasi contract', 'quasi corporation', 'quasi in rem', 'quasi', 'quasi', 'queen', 'query', 'question of fact', 'question of law', 'qui tam action', 'quid pro quo', 'quiet enjoyment', 'quiet title action', 'quit', 'quitclaim deed', 'quo warranto', 'quorum', 'quotient verdict', 'race to the courthouse', 'racketeer influenced corrupt organization', 'racketeering', 'ransom', 'rape', 'ratable', 'ratification', 'ratify', 'rational basis', 'ready', 'real estate', 'real estate investment trust', 'real party in interest', 'real property', 'realty', 'reasonable', 'reasonable care', 'reasonable doubt', 'reasonable reliance', 'reasonable speed', 'reasonable time', 'reasonable wear and tear', 'rebate', 'rebuttable presumption', 'rebuttal', 'recapture', 'receipt', 'receiver', 'receivership', 'recess', 'recidivist', 'reciprocal discovery', 'reciprocity', 'reckless', 'reckless disregard', 'reckless driving', 'reconveyance', 'record', 'recording acts', 'records', 'recoupment', 'recourse', 'recover', 'recoverable', 'recovery', 'recusal', 'recuse', 'redeem', 'redemption', 'reentry', 'referee', 'referendum', 'reformation', 'refresh one', 'register', 'registration statement', 'registry of deeds', 'regulations', 'rehearing', 'rejection of claim', 'release', 'release on one', 'relevancy', 'relevant', 'reliance', 'reliction', 'relief', 'remainder', 'remainderman', 'remand', 'remedy', 'remise', 'remittitur', 'remote', 'removal', 'renewal', 'rent', 'rental value', 'renunciation', 'reorganization', 'repair', 'repeal', 'replevin', 'reply brief', 'reports', 'repossess', 'represent', 'representation', 'representative', 'reprieve', 'repudiation', 'reputation', 'reputed', 'request', 'requirements contract', 'res', 'res adjudicata', 'res gestae', 'res ipsa loquitur', 'res judicata', 'resale', 'rescind', 'rescission', 'rescue doctrine', 'reservation', 'reserve', 'reserve fund', 'residence', 'resident', 'residuary bequest', 'residue', 'resisting arrest', 'resolution', 'respondeat superior', 'respondent', 'responsible', 'restatement of the law', 'restitution', 'restraining order', 'restraint of trade', 'restraint on alienation', 'restriction', 'restrictive covenant', 'restrictive endorsement', 'result', 'resulting trust', 'retainer', 'retire', 'retraction', 'retrial', 'retroactive', 'return of service', 'revenue ruling', 'reversal', 'reversible error', 'reversion', 'reverter', 'review', 'revival', 'revocation', 'revoke', 'rico', 'rider', 'right', 'right of way', 'right to privacy', 'rights', 'riot', 'riparian', 'riparian rights', 'ripe', 'risk', 'risk of loss', 'roadside test', 'robbery', 'rogatory letters', 'royalty', 'rule', 'rule against perpetuities', 'rules of court', 'ruling', 'running at large', 'running with the land', 'said', 'sale', 'salvage', 'sanction', 'satisfaction', 'satisfaction of judgment', 'satisfaction of mortgage', 'save harmless', 'savings and loan', 'scienter', 'scintilla', 'scope of employment', 'scrivener', 'seal', 'sealed verdict', 'sealing of records', 'search', 'search and seizure', 'search warrant', 'second degree murder', 'secondary boycott', 'secret rebate', 'secured transaction', 'securities', 'security deposit', 'security interest', 'sedition', 'seduction', 'seisin', 'seized', 'seizure', 'self', 'self', 'self', 'self', 'self', 'self', 'sell', 'seller', 'senior lien', 'sentence', 'separate property', 'separation', 'separation agreement', 'sequester', 'sequestration', 'seriatim', 'servant', 'service', 'service by fax', 'service by mail', 'service by publication', 'service of process', 'services', 'servient estate', 'session', 'set', 'set aside', 'setoff', 'setting', 'settle', 'settlement', 'settlor', 'severable contract', 'several liability', 'severance', 'sex offender', 'sexual harassment', 'shall', 'share', 'share and share alike', 'shareholder', 'shareholders', 'shareholders', 'shareholders', 'sharp practice', 'shepardize', 'sheriff', 'sheriff', 'shield laws', 'shifting the burden of proof', 'short cause', 'shortening time', 'show cause order', 'sidebar', 'sign', 'silent partner', 'similarly situated', 'simple trust', 'simultaneous death act', 'sine qua non', 'situs', 'slander', 'small claims court', 'sodomy', 'sole proprietorship', 'solicitation', 'solicitor', 'solicitor general', 'solitary confinement', 'solvency', 'sound mind and memory', 'sounds in', 'speaking demurrer', 'special', 'special administrator', 'special appearance', 'special circumstances', 'special damages', 'special master', 'special prosecutor', 'special verdict', 'specific bequest', 'specific devise', 'specific finding', 'specific legacy', 'specific performance', 'speculative damages', 'speedy trial', 'spendthrift clause', 'spontaneous exclamation', 'spot zoning', 'spousal support', 'springing interest', 'stakeholder', 'standard of care', 'standing', 'star chamber proceedings', 'stare decisis', 'state', 'state action', 'state of domicile', 'status conference', 'statute', 'statute of frauds', 'statute of limitations', 'statutory offer of settlement', 'statutory rape', 'stay', 'stay away order', 'stay of execution', 'stipulation', 'stock', 'stock certificate', 'stock in trade', 'stock option', 'stockholder', 'stockholders', 'stop and frisk', 'straw man', 'street', 'strict construction', 'strict liability', 'strike', 'structure', 'sua sponte', 'subchapter s corporation', 'subcontractor', 'subject to', 'sublease', 'submitted', 'subordination', 'subordination agreement', 'subornation of perjury', 'subpena', 'subpena duces tecum', 'subpoena', 'subrogation', 'subrogee', 'subrogor', 'subscribe', 'substantial performance', 'substantive law', 'substitute in', 'substituted service', 'substitution', 'substitution of attorney', 'succession', 'successive sentences', 'suffering', 'sui generis', 'suicide', 'suit', 'sum certain', 'summary adjudication of issues', 'summary judgment', 'summation', 'summons', 'superior court', 'supersedeas', 'superseding cause', 'supplemental', 'suppression of evidence', 'supra', 'supremacy clause', 'supreme court', 'surcharge', 'surety', 'surplusage', 'surrebutal', 'surrender', 'surrogate', 'surrogate court', 'survivor', 'survivorship', 'suspended sentence', 'sustain', 'swear', 'swindle', 'syndicate', 'tainted evidence', 'take', 'taking the fifth', 'tangible property', 'tax', 'tax costs', 'tax court', 'tax evasion', 'tax return', 'tax sale', 'temporary injunction', 'temporary insanity', 'tenancy', 'tenancy at sufferance', 'tenancy at will', 'tenancy by the entirety', 'tenancy in common', 'tenant', 'tender', 'tenement', 'tentative trust', 'tenure', 'term', 'testacy', 'testamentary', 'testamentary capacity', 'testamentary disposition', 'testamentary trust', 'testator', 'testatrix', 'testify', 'testimony', 'theft', 'third party', 'third', 'thirty', 'three strikes', 'three', 'tide lands', 'time is of the essence', 'time served', 'timely', 'title', 'title abstract', 'title insurance', 'title report', 'title search', 'to wit', 'toll', 'tontine', 'tools of trade', 'tort', 'tort claims act', 'tortfeasor', 'tortious', 'trade', 'trade fixture', 'trade name', 'trade secret', 'trademark', 'trader', 'transcript', 'transfer', 'transfer agent', 'transfer in contemplation of death', 'transferred intent', 'treason', 'treasury bill', 'treasury bond', 'treasury note', 'treasury stock', 'treaty', 'treble damages', 'trespass', 'trial', 'trial court', 'trial de novo', 'tribunal', 'trier of fact', 'triple net lease', 'true bill', 'trust', 'trust deed', 'trust fund', 'trustee', 'trustee in bankruptcy', 'trustor', 'truth in lending act', 'turn states', 'twinkie defense', 'ucc', 'ultimate fact', 'ultra vires', 'ultrahazardous activity', 'unclean hands', 'unconscionable', 'unconstitutional', 'under the influence', 'underwrite', 'underwriter', 'undisclosed principal', 'undivided interest', 'undue influence', 'unfair competition', 'unified estate and gift tax', 'uniform commercial code', 'unilateral contract', 'uninsured motorist clause', 'unissued stock', 'unjust enrichment', 'unlawful', 'unlawful assembly', 'unlawful detainer', 'unreasonable search and seizure', 'use', 'use tax', 'usurious', 'usury', 'utter', 'uxor', 'vacate', 'vagrancy', 'valuable consideration', 'variance', 'vehicular manslaughter', 'vendee', 'vendor', 'venire', 'venue', 'verdict', 'verification', 'vest', 'vested', 'vested remainder', 'vexatious litigation', 'vicarious liability', 'vigilante', 'viz', 'void', 'void for vagueness', 'voidable', 'voir dire', 'voluntary bankruptcy', 'voting trust', 'waive', 'waiver', 'wanton', 'ward', 'warrant', 'warranty', 'warranty deed', 'waste', 'watered stock', 'weight of evidence', 'wet reckless', 'whiplash', 'white collar crime', 'widow', 'widow', 'widower', 'will', 'will contest', 'willful', 'willfully', 'wind up', 'winding up', 'wiretap', 'withdrawal', 'witness', 'witness stand', 'words of art', 'work product', 'workers', 'workmen', 'world court', 'writ', 'writ of attachment', 'writ of coram nobis', 'writ of execution', 'writ of mandate', 'wrongful death', 'wrongful termination', 'your honor', 'youthful offenders', 'zoning']\n"
          ]
        }
      ]
    },
    {
      "cell_type": "code",
      "source": [
        "len(wl_3)"
      ],
      "metadata": {
        "colab": {
          "base_uri": "https://localhost:8080/"
        },
        "id": "s74U5Hn1pPYy",
        "outputId": "d0ea52f0-c7aa-4410-8842-c688ccdb1ebb"
      },
      "execution_count": null,
      "outputs": [
        {
          "output_type": "execute_result",
          "data": {
            "text/plain": [
              "2444"
            ]
          },
          "metadata": {},
          "execution_count": 147
        }
      ]
    },
    {
      "cell_type": "code",
      "source": [
        "all_wl = wl_1+wl_2+wl_3"
      ],
      "metadata": {
        "id": "lsy4HvEmqDIA"
      },
      "execution_count": null,
      "outputs": []
    },
    {
      "cell_type": "code",
      "source": [
        "all_unique = list(set(all_wl))"
      ],
      "metadata": {
        "id": "WsA5BgM8suiT"
      },
      "execution_count": null,
      "outputs": []
    },
    {
      "cell_type": "code",
      "source": [
        "len (all_unique)"
      ],
      "metadata": {
        "colab": {
          "base_uri": "https://localhost:8080/"
        },
        "id": "_vXATNRAs1Jw",
        "outputId": "c1cd64c1-d6f1-46fe-aca6-59d7447cf721"
      },
      "execution_count": null,
      "outputs": [
        {
          "output_type": "execute_result",
          "data": {
            "text/plain": [
              "2665"
            ]
          },
          "metadata": {},
          "execution_count": 151
        }
      ]
    },
    {
      "cell_type": "code",
      "source": [
        "all_unique.sort()"
      ],
      "metadata": {
        "id": "nsBQM55jvQ3u"
      },
      "execution_count": null,
      "outputs": []
    },
    {
      "cell_type": "code",
      "source": [
        "df = pd.DataFrame(all_unique)"
      ],
      "metadata": {
        "id": "WQHz3x16s4RQ"
      },
      "execution_count": null,
      "outputs": []
    },
    {
      "cell_type": "code",
      "source": [
        "df"
      ],
      "metadata": {
        "colab": {
          "base_uri": "https://localhost:8080/",
          "height": 424
        },
        "id": "jvwL9hlIvKog",
        "outputId": "d7392746-0444-4450-a768-0d6bde715825"
      },
      "execution_count": null,
      "outputs": [
        {
          "output_type": "execute_result",
          "data": {
            "text/html": [
              "\n",
              "  <div id=\"df-3492ce15-1034-41ba-bbc4-0a5705b71a5e\">\n",
              "    <div class=\"colab-df-container\">\n",
              "      <div>\n",
              "<style scoped>\n",
              "    .dataframe tbody tr th:only-of-type {\n",
              "        vertical-align: middle;\n",
              "    }\n",
              "\n",
              "    .dataframe tbody tr th {\n",
              "        vertical-align: top;\n",
              "    }\n",
              "\n",
              "    .dataframe thead th {\n",
              "        text-align: right;\n",
              "    }\n",
              "</style>\n",
              "<table border=\"1\" class=\"dataframe\">\n",
              "  <thead>\n",
              "    <tr style=\"text-align: right;\">\n",
              "      <th></th>\n",
              "      <th>0</th>\n",
              "    </tr>\n",
              "  </thead>\n",
              "  <tbody>\n",
              "    <tr>\n",
              "      <th>0</th>\n",
              "      <td>a fortiori</td>\n",
              "    </tr>\n",
              "    <tr>\n",
              "      <th>1</th>\n",
              "      <td>a priori assumption</td>\n",
              "    </tr>\n",
              "    <tr>\n",
              "      <th>2</th>\n",
              "      <td>ab initio</td>\n",
              "    </tr>\n",
              "    <tr>\n",
              "      <th>3</th>\n",
              "      <td>abandon</td>\n",
              "    </tr>\n",
              "    <tr>\n",
              "      <th>4</th>\n",
              "      <td>abandoned property</td>\n",
              "    </tr>\n",
              "    <tr>\n",
              "      <th>...</th>\n",
              "      <td>...</td>\n",
              "    </tr>\n",
              "    <tr>\n",
              "      <th>2660</th>\n",
              "      <td>your honor</td>\n",
              "    </tr>\n",
              "    <tr>\n",
              "      <th>2661</th>\n",
              "      <td>youth</td>\n",
              "    </tr>\n",
              "    <tr>\n",
              "      <th>2662</th>\n",
              "      <td>youthful offender</td>\n",
              "    </tr>\n",
              "    <tr>\n",
              "      <th>2663</th>\n",
              "      <td>youthful offenders</td>\n",
              "    </tr>\n",
              "    <tr>\n",
              "      <th>2664</th>\n",
              "      <td>zoning</td>\n",
              "    </tr>\n",
              "  </tbody>\n",
              "</table>\n",
              "<p>2665 rows × 1 columns</p>\n",
              "</div>\n",
              "      <button class=\"colab-df-convert\" onclick=\"convertToInteractive('df-3492ce15-1034-41ba-bbc4-0a5705b71a5e')\"\n",
              "              title=\"Convert this dataframe to an interactive table.\"\n",
              "              style=\"display:none;\">\n",
              "        \n",
              "  <svg xmlns=\"http://www.w3.org/2000/svg\" height=\"24px\"viewBox=\"0 0 24 24\"\n",
              "       width=\"24px\">\n",
              "    <path d=\"M0 0h24v24H0V0z\" fill=\"none\"/>\n",
              "    <path d=\"M18.56 5.44l.94 2.06.94-2.06 2.06-.94-2.06-.94-.94-2.06-.94 2.06-2.06.94zm-11 1L8.5 8.5l.94-2.06 2.06-.94-2.06-.94L8.5 2.5l-.94 2.06-2.06.94zm10 10l.94 2.06.94-2.06 2.06-.94-2.06-.94-.94-2.06-.94 2.06-2.06.94z\"/><path d=\"M17.41 7.96l-1.37-1.37c-.4-.4-.92-.59-1.43-.59-.52 0-1.04.2-1.43.59L10.3 9.45l-7.72 7.72c-.78.78-.78 2.05 0 2.83L4 21.41c.39.39.9.59 1.41.59.51 0 1.02-.2 1.41-.59l7.78-7.78 2.81-2.81c.8-.78.8-2.07 0-2.86zM5.41 20L4 18.59l7.72-7.72 1.47 1.35L5.41 20z\"/>\n",
              "  </svg>\n",
              "      </button>\n",
              "      \n",
              "  <style>\n",
              "    .colab-df-container {\n",
              "      display:flex;\n",
              "      flex-wrap:wrap;\n",
              "      gap: 12px;\n",
              "    }\n",
              "\n",
              "    .colab-df-convert {\n",
              "      background-color: #E8F0FE;\n",
              "      border: none;\n",
              "      border-radius: 50%;\n",
              "      cursor: pointer;\n",
              "      display: none;\n",
              "      fill: #1967D2;\n",
              "      height: 32px;\n",
              "      padding: 0 0 0 0;\n",
              "      width: 32px;\n",
              "    }\n",
              "\n",
              "    .colab-df-convert:hover {\n",
              "      background-color: #E2EBFA;\n",
              "      box-shadow: 0px 1px 2px rgba(60, 64, 67, 0.3), 0px 1px 3px 1px rgba(60, 64, 67, 0.15);\n",
              "      fill: #174EA6;\n",
              "    }\n",
              "\n",
              "    [theme=dark] .colab-df-convert {\n",
              "      background-color: #3B4455;\n",
              "      fill: #D2E3FC;\n",
              "    }\n",
              "\n",
              "    [theme=dark] .colab-df-convert:hover {\n",
              "      background-color: #434B5C;\n",
              "      box-shadow: 0px 1px 3px 1px rgba(0, 0, 0, 0.15);\n",
              "      filter: drop-shadow(0px 1px 2px rgba(0, 0, 0, 0.3));\n",
              "      fill: #FFFFFF;\n",
              "    }\n",
              "  </style>\n",
              "\n",
              "      <script>\n",
              "        const buttonEl =\n",
              "          document.querySelector('#df-3492ce15-1034-41ba-bbc4-0a5705b71a5e button.colab-df-convert');\n",
              "        buttonEl.style.display =\n",
              "          google.colab.kernel.accessAllowed ? 'block' : 'none';\n",
              "\n",
              "        async function convertToInteractive(key) {\n",
              "          const element = document.querySelector('#df-3492ce15-1034-41ba-bbc4-0a5705b71a5e');\n",
              "          const dataTable =\n",
              "            await google.colab.kernel.invokeFunction('convertToInteractive',\n",
              "                                                     [key], {});\n",
              "          if (!dataTable) return;\n",
              "\n",
              "          const docLinkHtml = 'Like what you see? Visit the ' +\n",
              "            '<a target=\"_blank\" href=https://colab.research.google.com/notebooks/data_table.ipynb>data table notebook</a>'\n",
              "            + ' to learn more about interactive tables.';\n",
              "          element.innerHTML = '';\n",
              "          dataTable['output_type'] = 'display_data';\n",
              "          await google.colab.output.renderOutput(dataTable, element);\n",
              "          const docLink = document.createElement('div');\n",
              "          docLink.innerHTML = docLinkHtml;\n",
              "          element.appendChild(docLink);\n",
              "        }\n",
              "      </script>\n",
              "    </div>\n",
              "  </div>\n",
              "  "
            ],
            "text/plain": [
              "                        0\n",
              "0              a fortiori\n",
              "1     a priori assumption\n",
              "2               ab initio\n",
              "3                 abandon\n",
              "4      abandoned property\n",
              "...                   ...\n",
              "2660           your honor\n",
              "2661                youth\n",
              "2662    youthful offender\n",
              "2663   youthful offenders\n",
              "2664               zoning\n",
              "\n",
              "[2665 rows x 1 columns]"
            ]
          },
          "metadata": {},
          "execution_count": 157
        }
      ]
    },
    {
      "cell_type": "code",
      "source": [
        "df.to_csv(\"legal_terms_list.csv\",index=True)"
      ],
      "metadata": {
        "id": "qAKqgmrJvLcM"
      },
      "execution_count": null,
      "outputs": []
    },
    {
      "cell_type": "markdown",
      "source": [
        "# Synonyms"
      ],
      "metadata": {
        "id": "9U4zef9BDhSS"
      }
    },
    {
      "cell_type": "markdown",
      "source": [
        "filter (ignore)"
      ],
      "metadata": {
        "id": "CCS3QNQoDqy9"
      }
    },
    {
      "cell_type": "code",
      "source": [
        "!cp \"/content/drive/Shareddrives/SigmaLaw-WPP/legal_terms_webscrape/legal_terms_list_with_index.csv\" \"/content/\""
      ],
      "metadata": {
        "id": "cLOzApcQvfL-"
      },
      "execution_count": null,
      "outputs": []
    },
    {
      "cell_type": "code",
      "source": [
        "df = pd.read_csv(\"legal_terms_list_with_index.csv\")"
      ],
      "metadata": {
        "id": "vIDA4XGJ3nal"
      },
      "execution_count": null,
      "outputs": []
    },
    {
      "cell_type": "code",
      "source": [
        "df['0'] = df['0'].astype(\"str\")\n",
        "df.info()"
      ],
      "metadata": {
        "colab": {
          "base_uri": "https://localhost:8080/"
        },
        "id": "DX-MWRUh4CGs",
        "outputId": "49dde058-26c6-44a2-affe-394fb5418b2d"
      },
      "execution_count": null,
      "outputs": [
        {
          "output_type": "stream",
          "name": "stdout",
          "text": [
            "<class 'pandas.core.frame.DataFrame'>\n",
            "RangeIndex: 2665 entries, 0 to 2664\n",
            "Data columns (total 2 columns):\n",
            " #   Column      Non-Null Count  Dtype \n",
            "---  ------      --------------  ----- \n",
            " 0   Unnamed: 0  2665 non-null   int64 \n",
            " 1   0           2665 non-null   object\n",
            "dtypes: int64(1), object(1)\n",
            "memory usage: 41.8+ KB\n"
          ]
        }
      ]
    },
    {
      "cell_type": "code",
      "source": [
        "!cp \"/content/drive/Shareddrives/SigmaLaw-WPP/legal_terms_webscrape/legal_vocab_freq_3.txt\" \"/content/\""
      ],
      "metadata": {
        "id": "WZrMHA3e4DDV"
      },
      "execution_count": null,
      "outputs": []
    },
    {
      "cell_type": "code",
      "source": [
        "vocab_list = []\n",
        "with open(\"legal_vocab_freq_3.txt\") as file:\n",
        "  for line in file:\n",
        "    vocab_list.append(line.strip().lower())"
      ],
      "metadata": {
        "id": "-mzEVAUo5Rq8"
      },
      "execution_count": null,
      "outputs": []
    },
    {
      "cell_type": "code",
      "source": [
        "len(vocab_list)"
      ],
      "metadata": {
        "colab": {
          "base_uri": "https://localhost:8080/"
        },
        "id": "9lwjd9mG6MV0",
        "outputId": "f6f5fe5e-1afc-4d5f-80b9-4f0cbeabe86b"
      },
      "execution_count": null,
      "outputs": [
        {
          "output_type": "execute_result",
          "data": {
            "text/plain": [
              "54063"
            ]
          },
          "metadata": {},
          "execution_count": 35
        }
      ]
    },
    {
      "cell_type": "code",
      "source": [
        "filtered_df = df.loc[df['0'].isin(vocab_list)]"
      ],
      "metadata": {
        "id": "IACEf0jn6OEc"
      },
      "execution_count": null,
      "outputs": []
    },
    {
      "cell_type": "markdown",
      "source": [
        "load terms in vocab"
      ],
      "metadata": {
        "id": "Mnt-050sDvky"
      }
    },
    {
      "cell_type": "code",
      "source": [
        "!cp \"/content/drive/Shareddrives/SigmaLaw-WPP/legal_terms_webscrape/legal_terms_in_vocab.txt\" \"/content/\""
      ],
      "metadata": {
        "id": "XiZ67y-57bOs"
      },
      "execution_count": null,
      "outputs": []
    },
    {
      "cell_type": "code",
      "source": [
        "terms_in_vocab = []\n",
        "with open(\"legal_terms_in_vocab.txt\") as file:\n",
        "  for line in file:\n",
        "    terms_in_vocab.append(line.strip().lower())"
      ],
      "metadata": {
        "id": "rjRug3qJ-JKE"
      },
      "execution_count": null,
      "outputs": []
    },
    {
      "cell_type": "code",
      "source": [
        "len(terms_in_vocab)"
      ],
      "metadata": {
        "colab": {
          "base_uri": "https://localhost:8080/"
        },
        "id": "AHEjr_oiD_R5",
        "outputId": "94bc6ee2-fa81-494b-e5d2-ee4d1b0e84c1"
      },
      "execution_count": null,
      "outputs": [
        {
          "output_type": "execute_result",
          "data": {
            "text/plain": [
              "2165"
            ]
          },
          "metadata": {},
          "execution_count": 48
        }
      ]
    },
    {
      "cell_type": "code",
      "source": [
        "term_synonym_map = {}\n",
        "for term in terms_in_vocab:\n",
        "  synonym_url = \"https://www.thesaurus.com/browse/\"+term #\"lawsuit\"\n",
        "  page = requests.get(synonym_url).text\n",
        "  soup = BeautifulSoup(page, 'html.parser')\n",
        "  syn_div = soup.find(\"div\", {\"id\": \"meanings\"})\n",
        "  if syn_div is not None:\n",
        "    wordsList = [ div.text for div in syn_div.find_all(\"a\", {\"class\": \"eh475bn0\"})]\n",
        "    term_synonym_map[term] = wordsList"
      ],
      "metadata": {
        "id": "Ec-pccCfEAeC"
      },
      "execution_count": null,
      "outputs": []
    },
    {
      "cell_type": "code",
      "source": [
        "term_synonym_map"
      ],
      "metadata": {
        "id": "H3d9C5ZKHIwL"
      },
      "execution_count": null,
      "outputs": []
    },
    {
      "cell_type": "code",
      "source": [
        "len(term_synonym_map)"
      ],
      "metadata": {
        "colab": {
          "base_uri": "https://localhost:8080/"
        },
        "id": "_uVXYsXNHK87",
        "outputId": "6918bc9b-3086-4626-b101-ca41930d6df9"
      },
      "execution_count": null,
      "outputs": [
        {
          "output_type": "execute_result",
          "data": {
            "text/plain": [
              "1944"
            ]
          },
          "metadata": {},
          "execution_count": 65
        }
      ]
    },
    {
      "cell_type": "code",
      "source": [
        "term_syn_in_vocab_map = {}\n",
        "for term in term_synonym_map:\n",
        "  syn_in_vocab = []\n",
        "  for syn in term_synonym_map[term]:\n",
        "    formated_syn = syn.strip().lower()\n",
        "    if formated_syn in vocab_list:\n",
        "      syn_in_vocab.append(formated_syn)\n",
        "  if len(syn_in_vocab)>2:\n",
        "    term_syn_in_vocab_map[term]= syn_in_vocab"
      ],
      "metadata": {
        "id": "5yozfhQwM8W4"
      },
      "execution_count": null,
      "outputs": []
    },
    {
      "cell_type": "code",
      "source": [
        "term_syn_in_vocab_map"
      ],
      "metadata": {
        "id": "R3YhqECyQwTq"
      },
      "execution_count": null,
      "outputs": []
    },
    {
      "cell_type": "code",
      "source": [
        "len(term_syn_in_vocab_map) #min3 -> 1830, min5 -> 1672"
      ],
      "metadata": {
        "colab": {
          "base_uri": "https://localhost:8080/"
        },
        "id": "0pomNkQjQ2kI",
        "outputId": "b3ae8715-3aef-48a3-ffad-8e5032520986"
      },
      "execution_count": null,
      "outputs": [
        {
          "output_type": "execute_result",
          "data": {
            "text/plain": [
              "1672"
            ]
          },
          "metadata": {},
          "execution_count": 80
        }
      ]
    },
    {
      "cell_type": "markdown",
      "source": [
        "json"
      ],
      "metadata": {
        "id": "gr7W3NBKSUpt"
      }
    },
    {
      "cell_type": "code",
      "source": [
        "with open(\"term_syn_in_vocab_map_min5.json\", \"w\") as outfile:\n",
        "    json.dump(term_syn_in_vocab_map, outfile)"
      ],
      "metadata": {
        "id": "xw2MOzuBQ_po"
      },
      "execution_count": null,
      "outputs": []
    },
    {
      "cell_type": "markdown",
      "source": [
        "csv"
      ],
      "metadata": {
        "id": "zE4lWOj8SXUk"
      }
    },
    {
      "cell_type": "code",
      "source": [
        "!pip install itertools"
      ],
      "metadata": {
        "colab": {
          "base_uri": "https://localhost:8080/"
        },
        "id": "wT1jwERaWTnL",
        "outputId": "edf84322-6ede-4d05-a957-9015b81d6b72"
      },
      "execution_count": null,
      "outputs": [
        {
          "output_type": "stream",
          "name": "stdout",
          "text": [
            "\u001b[31mERROR: Could not find a version that satisfies the requirement itertools (from versions: none)\u001b[0m\n",
            "\u001b[31mERROR: No matching distribution found for itertools\u001b[0m\n"
          ]
        }
      ]
    },
    {
      "cell_type": "code",
      "source": [
        "from csv import writer\n",
        "from itertools import zip_longest\n",
        "\n",
        "with open(\"term_syn_in_vocab_map_min3.csv\",\"w\") as csvfile:\n",
        "    wr = writer(csvfile)\n",
        "    wr.writerow(list(term_syn_in_vocab_map.keys()))#writes title row\n",
        "    for each in zip_longest(*term_syn_in_vocab_map.values()): wr.writerow(each)"
      ],
      "metadata": {
        "id": "h6ikGY_5SQyw"
      },
      "execution_count": null,
      "outputs": []
    },
    {
      "cell_type": "code",
      "source": [
        ""
      ],
      "metadata": {
        "id": "aFzgKMtoXo9n"
      },
      "execution_count": null,
      "outputs": []
    }
  ]
}