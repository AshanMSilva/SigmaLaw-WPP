{
  "nbformat": 4,
  "nbformat_minor": 0,
  "metadata": {
    "colab": {
      "name": "WebScrape.ipynb",
      "provenance": [],
      "collapsed_sections": [],
      "mount_file_id": "1crRNu1PlgX1ypc_dgAfQtcK7WIGN2yV8",
      "authorship_tag": "ABX9TyM1xM8nCg6+HStJugxazwFS",
      "include_colab_link": true
    },
    "kernelspec": {
      "display_name": "Python 3",
      "name": "python3"
    },
    "language_info": {
      "name": "python"
    }
  },
  "cells": [
    {
      "cell_type": "markdown",
      "metadata": {
        "id": "view-in-github",
        "colab_type": "text"
      },
      "source": [
        "<a href=\"https://colab.research.google.com/github/Lakith-Rambukkanage/SigmaLaw-WPP/blob/main/web_scrape/WebScrape.ipynb\" target=\"_parent\"><img src=\"https://colab.research.google.com/assets/colab-badge.svg\" alt=\"Open In Colab\"/></a>"
      ]
    },
    {
      "cell_type": "markdown",
      "metadata": {
        "id": "ZyLMKy1UDcBT"
      },
      "source": [
        "##Packages"
      ]
    },
    {
      "cell_type": "code",
      "metadata": {
        "colab": {
          "base_uri": "https://localhost:8080/"
        },
        "id": "XIWoHAplDb0i",
        "outputId": "e5449e20-73ea-4a3a-b113-1ca2ba19c076"
      },
      "source": [
        "!pip install bs4\n",
        "!pip install requests\n"
      ],
      "execution_count": null,
      "outputs": [
        {
          "output_type": "stream",
          "text": [
            "Requirement already satisfied: bs4 in /usr/local/lib/python3.7/dist-packages (0.0.1)\n",
            "Requirement already satisfied: beautifulsoup4 in /usr/local/lib/python3.7/dist-packages (from bs4) (4.6.3)\n"
          ],
          "name": "stdout"
        }
      ]
    },
    {
      "cell_type": "markdown",
      "metadata": {
        "id": "9BK0EnkeDXk6"
      },
      "source": [
        "## Web scrape\n"
      ]
    },
    {
      "cell_type": "code",
      "metadata": {
        "id": "EfSwI5OBDlBM"
      },
      "source": [
        "#import\n",
        "from bs4 import BeautifulSoup\n",
        "import requests"
      ],
      "execution_count": null,
      "outputs": []
    },
    {
      "cell_type": "code",
      "metadata": {
        "id": "NceE2lt4DofC"
      },
      "source": [
        "def getURLtoSummaryFromSearchResult(url):\n",
        "    page = requests.get(url).text\n",
        "    soup = BeautifulSoup(page, 'html.parser')\n",
        "    urlsToSummary = [h3.a[\"href\"] for h3 in soup.find(\"table\").find_all('h3')]\n",
        "    return urlsToSummary\n"
      ],
      "execution_count": null,
      "outputs": []
    },
    {
      "cell_type": "code",
      "metadata": {
        "id": "cIE3a8ywDrWr"
      },
      "source": [
        "def summaryURLToSummaryTextAndCaseURL(url):\n",
        "    page = requests.get(url).text\n",
        "    soup = BeautifulSoup(page, 'html.parser')\n",
        "    text = [p.text for p in soup.find(class_=\"caselawcontent searchable-content\").find_all('p')]\n",
        "    case_url = soup.find(class_=\"tiny button leaf_page_button\")[\"href\"]\n",
        "    summary_text = \"\\n\".join(text)\n",
        "    return summary_text, case_url"
      ],
      "execution_count": null,
      "outputs": []
    },
    {
      "cell_type": "code",
      "metadata": {
        "id": "op1yLzr4DrUB"
      },
      "source": [
        "def caseURLToCaseText(url):\n",
        "    page = requests.get(url).text\n",
        "    soup = BeautifulSoup(page, 'html.parser')\n",
        "    text = [p.text for p in soup.find(class_=\"caselawcontent searchable-content\").find_all('p')]\n",
        "    case_text = \"\\n\".join(text[1:])\n",
        "    return case_text\n",
        "\n",
        "#case_text = caseURLToCaseText(\"https://caselaw.findlaw.com/us-4th-circuit/1498455.html\")"
      ],
      "execution_count": null,
      "outputs": []
    },
    {
      "cell_type": "code",
      "metadata": {
        "id": "leCb2CMcDrRC"
      },
      "source": [
        "#substitute number to the url\n",
        "SEARCH_RESULT_URL = \"https://caselaw.findlaw.com/summary/search/?query=filters&dateFormat=yyyyMMdd&startDate=20000101&endDate=20100101&topic=cs_19&pgnum=\"\n",
        "PAGE_LIMIT = 2639 #2639"
      ],
      "execution_count": null,
      "outputs": []
    },
    {
      "cell_type": "code",
      "metadata": {
        "id": "ZKOJntyBDrEI"
      },
      "source": [
        "urlSetToSummary = set()\n",
        "for pgnum in range(PAGE_LIMIT):\n",
        "    urlListOfPage = getURLtoSummaryFromSearchResult(SEARCH_RESULT_URL+str(pgnum+1))\n",
        "    urlSetToSummary|=set(urlListOfPage)\n",
        "    print(pgnum)\n",
        "urlsToSummary = list(urlSetToSummary)"
      ],
      "execution_count": null,
      "outputs": []
    },
    {
      "cell_type": "code",
      "metadata": {
        "colab": {
          "base_uri": "https://localhost:8080/"
        },
        "id": "NeVz8b2fR5t1",
        "outputId": "a694ac54-77d2-4504-b225-d813764cf438"
      },
      "source": [
        "# print(urlsToSummary)\n",
        "print(len(urlsToSummary))"
      ],
      "execution_count": null,
      "outputs": [
        {
          "output_type": "stream",
          "text": [
            "18031\n"
          ],
          "name": "stdout"
        }
      ]
    },
    {
      "cell_type": "code",
      "metadata": {
        "id": "qT_GDijzZNI9"
      },
      "source": [
        "with open(\"url_list.txt\",encoding='utf-8',mode=\"w\",) as f:\n",
        "  for url in urlsToSummary:\n",
        "    f.write(url)\n",
        "    f.write(\"\\n\")"
      ],
      "execution_count": null,
      "outputs": []
    },
    {
      "cell_type": "code",
      "metadata": {
        "id": "nBMIlWI6vw6U"
      },
      "source": [
        "!cp url_list.txt /content/drive/Shareddrives/SigmaLaw-WPP/LRR/web_scrape/criminal"
      ],
      "execution_count": null,
      "outputs": []
    },
    {
      "cell_type": "code",
      "metadata": {
        "colab": {
          "base_uri": "https://localhost:8080/"
        },
        "id": "6uE5hLJ3mS1i",
        "outputId": "281c0882-d55b-4420-fb21-736f1f743e6d"
      },
      "source": [
        "with open(\"/content/drive/Shareddrives/SigmaLaw-WPP/LRR/web_scrape/criminal/url_list.txt\",encoding='utf-8',mode=\"r\",) as f:\n",
        "  urlString = f.read()\n",
        "  ulist = urlString.split(\"\\n\")\n",
        "ulist=ulist[:-1]"
      ],
      "execution_count": null,
      "outputs": [
        {
          "output_type": "execute_result",
          "data": {
            "text/plain": [
              "18032"
            ]
          },
          "metadata": {
            "tags": []
          },
          "execution_count": 13
        }
      ]
    },
    {
      "cell_type": "code",
      "metadata": {
        "id": "HMRHeqGmnGYr"
      },
      "source": [
        "urlsToSummary = ulist"
      ],
      "execution_count": null,
      "outputs": []
    },
    {
      "cell_type": "code",
      "metadata": {
        "id": "py-v4qM1gbq8"
      },
      "source": [
        "import os\n",
        "import re\n",
        "\n",
        "fileList = os.listdir(\"/content/drive/Shareddrives/SigmaLaw-WPP/LRR/web_scrape/criminal/cases\")\n",
        "\n",
        "def atoi(text):\n",
        "    return int(text) if text.isdigit() else text\n",
        "\n",
        "def natural_keys(text):\n",
        "    '''\n",
        "    list.sort(key=natural_keys) sorts in human order\n",
        "    '''\n",
        "    return [ atoi(c) for c in re.split(r'(\\d+)', text) ]\n",
        "\n",
        "fileList.sort(key=natural_keys)\n",
        "fileList"
      ],
      "execution_count": null,
      "outputs": []
    },
    {
      "cell_type": "code",
      "metadata": {
        "colab": {
          "base_uri": "https://localhost:8080/"
        },
        "id": "s1rpRrNugoBt",
        "outputId": "642f10d8-8b7e-4029-db62-92e67f88fb9a"
      },
      "source": [
        "len(fileList)#1st 10037 #2nd 15606 #3rd 15895, #4th 15902"
      ],
      "execution_count": null,
      "outputs": [
        {
          "output_type": "execute_result",
          "data": {
            "text/plain": [
              "15902"
            ]
          },
          "metadata": {
            "tags": []
          },
          "execution_count": 53
        }
      ]
    },
    {
      "cell_type": "code",
      "metadata": {
        "id": "UhYHVVYGkiSq"
      },
      "source": [
        "def fileNameToindex(name):\n",
        "  return int(name[4:-4])\n",
        "scrapedIndexList = list(map(fileNameToindex,fileList))\n",
        "scrapedIndexList"
      ],
      "execution_count": null,
      "outputs": []
    },
    {
      "cell_type": "code",
      "metadata": {
        "colab": {
          "base_uri": "https://localhost:8080/"
        },
        "id": "ncA5rMVhl5A5",
        "outputId": "abae1ee4-8f74-4cdc-9485-aa7c5aeb61a5"
      },
      "source": [
        "max(scrapedIndexList)#11674 #18030"
      ],
      "execution_count": null,
      "outputs": [
        {
          "output_type": "execute_result",
          "data": {
            "text/plain": [
              "18030"
            ]
          },
          "metadata": {
            "tags": []
          },
          "execution_count": 37
        }
      ]
    },
    {
      "cell_type": "code",
      "metadata": {
        "id": "zR6WXl1bF05r"
      },
      "source": [
        "#create folders\n",
        "# !mkdir /content/summary\n",
        "# !mkdir /content/cases"
      ],
      "execution_count": null,
      "outputs": []
    },
    {
      "cell_type": "code",
      "metadata": {
        "colab": {
          "base_uri": "https://localhost:8080/"
        },
        "id": "djYVYNVzDXJy",
        "outputId": "dcb6e804-3ab6-4526-cd33-e164ec46becb"
      },
      "source": [
        "for urlIndex in range(len(urlsToSummary)):\n",
        "    if urlIndex in scrapedIndexList:\n",
        "      continue\n",
        "    try:\n",
        "      summary,caseURL = summaryURLToSummaryTextAndCaseURL(urlsToSummary[urlIndex])\n",
        "      summary_file_name = \"/content/drive/Shareddrives/SigmaLaw-WPP/LRR/web_scrape/criminal/summary/case\"+str(urlIndex)+\".txt\"\n",
        "\n",
        "      case_file_name = \"/content/drive/Shareddrives/SigmaLaw-WPP/LRR/web_scrape/criminal/cases/case\"+str(urlIndex)+\".txt\"\n",
        "      case_text = caseURLToCaseText(caseURL)\n",
        "      if \"FindLaw is currently processing this opinion\" in case_text:\n",
        "          continue\n",
        "      with open(summary_file_name,encoding='utf-8',mode=\"w\",) as f:\n",
        "          f.write(summary)\n",
        "\n",
        "      with open(case_file_name,encoding='utf-8',mode=\"w\",) as f:\n",
        "          f.write(case_text)\n",
        "\n",
        "      print(urlIndex,end=\",\")\n",
        "    except KeyError:\n",
        "      print(\"Key error - \" +str(urlIndex))\n",
        "    except :\n",
        "      print(\"undefined error - \" +str(urlIndex))\n"
      ],
      "execution_count": null,
      "outputs": [
        {
          "output_type": "stream",
          "text": [
            "undefined error - 35\n",
            "Key error - 90\n",
            "Key error - 135\n",
            "undefined error - 284\n",
            "Key error - 390\n",
            "Key error - 409\n",
            "Key error - 525\n",
            "Key error - 579\n",
            "Key error - 674\n",
            "Key error - 750\n",
            "Key error - 791\n",
            "Key error - 843\n",
            "Key error - 890\n",
            "Key error - 893\n",
            "Key error - 929\n",
            "Key error - 936\n",
            "Key error - 953\n",
            "undefined error - 956\n",
            "Key error - 1017\n",
            "Key error - 1021\n",
            "undefined error - 1122\n",
            "undefined error - 1237\n",
            "Key error - 1242\n",
            "Key error - 1269\n",
            "undefined error - 1294\n",
            "undefined error - 1359\n",
            "Key error - 1413\n",
            "Key error - 1418\n",
            "Key error - 1445\n",
            "Key error - 1548\n",
            "Key error - 1555\n",
            "Key error - 1618\n",
            "Key error - 1641\n",
            "Key error - 1647\n",
            "Key error - 1708\n",
            "Key error - 1717\n",
            "Key error - 1722\n",
            "Key error - 1798\n",
            "undefined error - 1808\n",
            "Key error - 1827\n",
            "Key error - 1832\n",
            "undefined error - 1847\n",
            "Key error - 1887\n",
            "Key error - 1915\n",
            "undefined error - 1929\n",
            "Key error - 1995\n",
            "Key error - 1999\n",
            "undefined error - 2011\n",
            "undefined error - 2036\n",
            "Key error - 2120\n",
            "Key error - 2166\n",
            "Key error - 2177\n",
            "Key error - 2206\n",
            "Key error - 2267\n",
            "undefined error - 2268\n",
            "Key error - 2293\n",
            "undefined error - 2295\n",
            "Key error - 2309\n",
            "Key error - 2482\n",
            "Key error - 2518\n",
            "Key error - 2533\n",
            "Key error - 2666\n",
            "Key error - 2845\n",
            "Key error - 2908\n",
            "Key error - 2936\n",
            "undefined error - 2942\n",
            "Key error - 2968\n",
            "undefined error - 3176\n",
            "Key error - 3192\n",
            "Key error - 3194\n",
            "Key error - 3236\n",
            "Key error - 3240\n",
            "Key error - 3249\n",
            "Key error - 3251\n",
            "Key error - 3303\n",
            "Key error - 3324\n",
            "Key error - 3385\n",
            "Key error - 3406\n",
            "undefined error - 3463\n",
            "Key error - 3466\n",
            "Key error - 3473\n",
            "Key error - 3482\n",
            "undefined error - 3492\n",
            "Key error - 3494\n",
            "undefined error - 3498\n",
            "Key error - 3556\n",
            "Key error - 3578\n",
            "Key error - 3668\n",
            "Key error - 3735\n",
            "Key error - 3764\n",
            "Key error - 3855\n",
            "Key error - 3883\n",
            "Key error - 3915\n",
            "Key error - 3955\n",
            "Key error - 4006\n",
            "Key error - 4097\n",
            "undefined error - 4131\n",
            "Key error - 4291\n",
            "Key error - 4332\n",
            "Key error - 4369\n",
            "Key error - 4395\n",
            "Key error - 4501\n",
            "undefined error - 4565\n",
            "undefined error - 4611\n",
            "Key error - 4684\n",
            "Key error - 4708\n",
            "undefined error - 4715\n",
            "Key error - 4764\n",
            "Key error - 4834\n",
            "Key error - 4927\n",
            "Key error - 5064\n",
            "Key error - 5081\n",
            "Key error - 5110\n",
            "undefined error - 5162\n",
            "Key error - 5214\n",
            "Key error - 5240\n",
            "Key error - 5264\n",
            "undefined error - 5327\n",
            "Key error - 5462\n",
            "Key error - 5479\n",
            "undefined error - 5489\n",
            "Key error - 5542\n",
            "Key error - 5561\n",
            "undefined error - 5680\n",
            "Key error - 5711\n",
            "Key error - 5732\n",
            "Key error - 5737\n",
            "undefined error - 5773\n",
            "Key error - 5810\n",
            "undefined error - 6076\n",
            "Key error - 6098\n",
            "Key error - 6104\n",
            "Key error - 6111\n",
            "Key error - 6161\n",
            "undefined error - 6302\n",
            "Key error - 6326\n",
            "Key error - 6485\n",
            "undefined error - 6561\n",
            "undefined error - 6577\n",
            "Key error - 6616\n",
            "Key error - 6692\n",
            "Key error - 6762\n",
            "Key error - 6764\n",
            "Key error - 6879\n",
            "undefined error - 6890\n",
            "Key error - 6896\n",
            "Key error - 6918\n",
            "Key error - 6928\n",
            "Key error - 7048\n",
            "undefined error - 7074\n",
            "undefined error - 7078\n",
            "Key error - 7133\n",
            "undefined error - 7151\n",
            "Key error - 7264\n",
            "Key error - 7352\n",
            "undefined error - 7391\n",
            "Key error - 7506\n",
            "Key error - 7508\n",
            "Key error - 7521\n",
            "Key error - 7589\n",
            "undefined error - 7675\n",
            "Key error - 7689\n",
            "Key error - 7700\n",
            "Key error - 7801\n",
            "undefined error - 7822\n",
            "Key error - 7980\n",
            "undefined error - 8145\n",
            "Key error - 8255\n",
            "Key error - 8331\n",
            "undefined error - 8386\n",
            "undefined error - 8657\n",
            "Key error - 8689\n",
            "Key error - 8735\n",
            "undefined error - 8757\n",
            "undefined error - 8803\n",
            "undefined error - 8817\n",
            "undefined error - 8834\n",
            "Key error - 8944\n",
            "Key error - 8961\n",
            "undefined error - 9091\n",
            "Key error - 9101\n",
            "Key error - 9141\n",
            "Key error - 9146\n",
            "Key error - 9174\n",
            "Key error - 9335\n",
            "Key error - 9363\n",
            "Key error - 9376\n",
            "Key error - 9380\n",
            "Key error - 9391\n",
            "Key error - 9419\n",
            "Key error - 9552\n",
            "undefined error - 9553\n",
            "Key error - 9592\n",
            "Key error - 9609\n",
            "Key error - 9631\n",
            "undefined error - 9642\n",
            "undefined error - 9710\n",
            "Key error - 9731\n",
            "Key error - 9819\n",
            "undefined error - 9850\n",
            "Key error - 9889\n",
            "Key error - 9903\n",
            "Key error - 9970\n",
            "undefined error - 9979\n",
            "Key error - 10054\n",
            "Key error - 10128\n",
            "Key error - 10213\n",
            "Key error - 10260\n",
            "Key error - 10357\n",
            "Key error - 10360\n",
            "Key error - 10415\n",
            "Key error - 10436\n",
            "Key error - 10512\n",
            "Key error - 10551\n",
            "Key error - 10573\n",
            "Key error - 10588\n",
            "Key error - 10698\n",
            "Key error - 10758\n",
            "undefined error - 10820\n",
            "Key error - 10842\n",
            "Key error - 10882\n",
            "undefined error - 10902\n",
            "Key error - 11116\n",
            "Key error - 11295\n",
            "Key error - 11350\n",
            "Key error - 11358\n",
            "Key error - 11428\n",
            "Key error - 11499\n",
            "undefined error - 11513\n",
            "Key error - 11547\n",
            "Key error - 11659\n",
            "Key error - 11670\n",
            "undefined error - 11676\n",
            "undefined error - 11711\n",
            "undefined error - 11723\n",
            "Key error - 11805\n",
            "undefined error - 11849\n",
            "undefined error - 11852\n",
            "Key error - 11878\n",
            "Key error - 11942\n",
            "undefined error - 11970\n",
            "undefined error - 12013\n",
            "undefined error - 12015\n",
            "Key error - 12050\n",
            "Key error - 12139\n",
            "Key error - 12171\n",
            "undefined error - 12303\n",
            "undefined error - 12318\n",
            "Key error - 12342\n",
            "Key error - 12366\n",
            "Key error - 12399\n",
            "undefined error - 12430\n",
            "Key error - 12465\n",
            "Key error - 12469\n",
            "Key error - 12534\n",
            "Key error - 12544\n",
            "Key error - 12556\n",
            "Key error - 12581\n",
            "Key error - 12625\n",
            "Key error - 12655\n",
            "Key error - 12678\n",
            "Key error - 12681\n",
            "undefined error - 12762\n",
            "Key error - 12779\n",
            "Key error - 12815\n",
            "undefined error - 12870\n",
            "undefined error - 12958\n",
            "Key error - 13018\n",
            "Key error - 13071\n",
            "Key error - 13098\n",
            "Key error - 13113\n",
            "Key error - 13124\n",
            "Key error - 13130\n",
            "Key error - 13136\n",
            "Key error - 13170\n",
            "Key error - 13235\n",
            "undefined error - 13370\n",
            "Key error - 13421\n",
            "Key error - 13443\n",
            "Key error - 13449\n",
            "Key error - 13498\n",
            "undefined error - 13509\n",
            "undefined error - 13523\n",
            "Key error - 13550\n",
            "Key error - 13554\n",
            "Key error - 13609\n",
            "Key error - 13714\n",
            "Key error - 13761\n",
            "Key error - 13774\n",
            "Key error - 13795\n",
            "Key error - 13801\n",
            "Key error - 13834\n",
            "undefined error - 13866\n",
            "Key error - 14005\n",
            "undefined error - 14127\n",
            "Key error - 14171\n",
            "Key error - 14250\n",
            "undefined error - 14258\n",
            "Key error - 14267\n",
            "Key error - 14305\n",
            "Key error - 14335\n",
            "Key error - 14396\n",
            "Key error - 14427\n",
            "undefined error - 14433\n",
            "Key error - 14528\n",
            "undefined error - 14547\n",
            "undefined error - 14603\n",
            "undefined error - 14643\n",
            "undefined error - 14660\n",
            "Key error - 14870\n",
            "Key error - 14880\n",
            "Key error - 14965\n",
            "undefined error - 14976\n",
            "Key error - 14983\n",
            "Key error - 15089\n",
            "Key error - 15148\n",
            "Key error - 15163\n",
            "Key error - 15193\n",
            "undefined error - 15228\n",
            "Key error - 15397\n",
            "Key error - 15430\n",
            "Key error - 15483\n",
            "Key error - 15517\n",
            "undefined error - 15537\n",
            "Key error - 15564\n",
            "Key error - 15570\n",
            "Key error - 15572\n",
            "Key error - 15578\n",
            "undefined error - 15639\n",
            "Key error - 15678\n",
            "Key error - 15691\n",
            "Key error - 15911\n",
            "Key error - 15921\n",
            "Key error - 15958\n",
            "undefined error - 16047\n",
            "Key error - 16070\n",
            "Key error - 16114\n",
            "Key error - 16134\n",
            "Key error - 16189\n",
            "Key error - 16205\n",
            "Key error - 16211\n",
            "Key error - 16238\n",
            "Key error - 16259\n",
            "Key error - 16268\n",
            "Key error - 16283\n",
            "Key error - 16285\n",
            "undefined error - 16356\n",
            "Key error - 16387\n",
            "Key error - 16390\n",
            "Key error - 16470\n",
            "Key error - 16499\n",
            "Key error - 16557\n",
            "Key error - 16571\n",
            "Key error - 16637\n",
            "Key error - 16669\n",
            "Key error - 16671\n",
            "Key error - 16682\n",
            "Key error - 16703\n",
            "Key error - 16730\n",
            "Key error - 16738\n",
            "Key error - 16778\n",
            "Key error - 16799\n",
            "Key error - 16825\n",
            "Key error - 16880\n",
            "Key error - 16898\n",
            "Key error - 16908\n",
            "undefined error - 16924\n",
            "Key error - 16925\n",
            "Key error - 16947\n",
            "Key error - 16966\n",
            "Key error - 16972\n",
            "Key error - 16974\n",
            "Key error - 16999\n",
            "Key error - 17056\n",
            "Key error - 17079\n",
            "undefined error - 17082\n",
            "Key error - 17122\n",
            "Key error - 17137\n",
            "Key error - 17168\n",
            "Key error - 17170\n",
            "Key error - 17172\n",
            "Key error - 17183\n",
            "Key error - 17202\n",
            "Key error - 17210\n",
            "undefined error - 17224\n",
            "Key error - 17227\n",
            "undefined error - 17239\n",
            "undefined error - 17273\n",
            "undefined error - 17286\n",
            "Key error - 17289\n",
            "Key error - 17366\n",
            "Key error - 17379\n",
            "Key error - 17399\n",
            "Key error - 17424\n",
            "Key error - 17434\n",
            "Key error - 17477\n",
            "undefined error - 17498\n",
            "Key error - 17514\n",
            "Key error - 17568\n",
            "Key error - 17628\n",
            "Key error - 17661\n",
            "undefined error - 17682\n",
            "Key error - 17739\n",
            "Key error - 17790\n",
            "undefined error - 17846\n",
            "Key error - 17887\n",
            "Key error - 17937\n",
            "undefined error - 17939\n",
            "Key error - 17962\n",
            "Key error - 17988\n",
            "Key error - 18015\n"
          ],
          "name": "stdout"
        }
      ]
    },
    {
      "cell_type": "code",
      "metadata": {
        "colab": {
          "base_uri": "https://localhost:8080/",
          "height": 36
        },
        "id": "SmKXHlldbj3Z",
        "outputId": "317b897b-20c8-4dab-879e-2a4ed1bd2881"
      },
      "source": [
        "# summary,caseURL = summaryURLToSummaryTextAndCaseURL(urlsToSummary[17082])\n",
        "# summary,caseURL\n",
        "urlsToSummary[17082]"
      ],
      "execution_count": null,
      "outputs": [
        {
          "output_type": "execute_result",
          "data": {
            "application/vnd.google.colaboratory.intrinsic+json": {
              "type": "string"
            },
            "text/plain": [
              "'https://caselaw.findlaw.com/summary/opinion/ca-court-of-appeal/2005/01/28/128062.html'"
            ]
          },
          "metadata": {
            "tags": []
          },
          "execution_count": 44
        }
      ]
    },
    {
      "cell_type": "markdown",
      "metadata": {
        "id": "6P4JaE8nCwPr"
      },
      "source": [
        "#Drive mount"
      ]
    },
    {
      "cell_type": "code",
      "metadata": {
        "id": "QE97qpwmCqSP"
      },
      "source": [
        "from google.colab import drive\n",
        "drive.mount('/content/drive', force_remount=True)"
      ],
      "execution_count": null,
      "outputs": []
    },
    {
      "cell_type": "code",
      "metadata": {
        "id": "Kehxv9eqC0K5"
      },
      "source": [
        "!cp -R /content/cases \"/content/drive/Shareddrives/SigmaLaw-WPP/LRR/web_scrape\"\n",
        "!cp -R /content/summary \"/content/drive/Shareddrives/SigmaLaw-WPP/LRR/web_scrape\"\n"
      ],
      "execution_count": null,
      "outputs": []
    },
    {
      "cell_type": "code",
      "metadata": {
        "id": "P14OsCiOC4xJ"
      },
      "source": [
        "import shutil\n",
        "\n",
        "shutil.rmtree(\"/content/cases\")\n",
        "shutil.rmtree(\"/content/summary\")"
      ],
      "execution_count": null,
      "outputs": []
    },
    {
      "cell_type": "code",
      "metadata": {
        "id": "cLU7N_7yJcqb"
      },
      "source": [
        ""
      ],
      "execution_count": null,
      "outputs": []
    }
  ]
}